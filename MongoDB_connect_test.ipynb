{
 "cells": [
  {
   "cell_type": "code",
   "execution_count": 1,
   "metadata": {},
   "outputs": [],
   "source": [
    " import pymongo\n",
    "\n",
    "# 與 MongoDB連線\n",
    "client = pymongo.MongoClient(host=\"mongodb\", port=27017)\n",
    "# 指定為 test 資料庫\n",
    "db = client.test\n",
    "# 指定 temp_humidity 集合, MongoDB的每個資料庫又包含許多集合(collection), 類似於關聯性資料庫中的表\n",
    "collection = db.bpm"
   ]
  },
  {
   "cell_type": "code",
   "execution_count": 2,
   "metadata": {
    "scrolled": false
   },
   "outputs": [
    {
     "name": "stdout",
     "output_type": "stream",
     "text": [
      "Collection(Database(MongoClient(host=['mongodb:27017'], document_class=dict, tz_aware=False, connect=True), 'test'), 'bpm')\n"
     ]
    }
   ],
   "source": [
    "print(collection)"
   ]
  },
  {
   "cell_type": "code",
   "execution_count": 7,
   "metadata": {},
   "outputs": [
    {
     "data": {
      "text/plain": [
       "['admin', 'config', 'local']"
      ]
     },
     "execution_count": 7,
     "metadata": {},
     "output_type": "execute_result"
    }
   ],
   "source": [
    "client.list_database_names()"
   ]
  },
  {
   "cell_type": "code",
   "execution_count": 6,
   "metadata": {},
   "outputs": [
    {
     "data": {
      "text/plain": [
       "Database(MongoClient(host=['mongodb:27017'], document_class=dict, tz_aware=False, connect=True), 'runoobdb')"
      ]
     },
     "execution_count": 6,
     "metadata": {},
     "output_type": "execute_result"
    }
   ],
   "source": [
    "client[\"runoobdb\"]"
   ]
  },
  {
   "cell_type": "code",
   "execution_count": 8,
   "metadata": {},
   "outputs": [
    {
     "name": "stdout",
     "output_type": "stream",
     "text": [
      "<pymongo.results.InsertOneResult object at 0x7f9cd34280a0>\n",
      "<pymongo.results.InsertOneResult object at 0x7f9cd34280a0>\n"
     ]
    }
   ],
   "source": [
    "import pymongo\n",
    " \n",
    "myclient = pymongo.MongoClient(\"mongodb://mongodb:27017/\")\n",
    "mydb = myclient[\"runoobdb\"]\n",
    "mycol = mydb[\"sites\"]\n",
    " \n",
    "mydict = { \"name\": \"RUNOOB\", \"alexa\": \"10000\", \"url\": \"https://www.runoob.com\" }\n",
    " \n",
    "x = mycol.insert_one(mydict) \n",
    "print(x)\n",
    "print(x)"
   ]
  },
  {
   "cell_type": "code",
   "execution_count": 12,
   "metadata": {},
   "outputs": [
    {
     "name": "stdout",
     "output_type": "stream",
     "text": [
      "[ObjectId('5daecc4f2b0e8f64343f979c'), ObjectId('5daecc4f2b0e8f64343f979d'), ObjectId('5daecc4f2b0e8f64343f979e'), ObjectId('5daecc4f2b0e8f64343f979f'), ObjectId('5daecc4f2b0e8f64343f97a0')]\n"
     ]
    }
   ],
   "source": [
    "import pymongo\n",
    " \n",
    "myclient = pymongo.MongoClient(\"mongodb://mongodb:27017/\")\n",
    "mydb = myclient[\"runoobdb\"]\n",
    "mycol = mydb[\"sites\"]\n",
    " \n",
    "mylist = [\n",
    "  { \"name\": \"Taobao\", \"alexa\": \"100\", \"url\": \"https://www.taobao.com\" },\n",
    "  { \"name\": \"QQ\", \"alexa\": \"101\", \"url\": \"https://www.qq.com\" },\n",
    "  { \"name\": \"Facebook\", \"alexa\": \"10\", \"url\": \"https://www.facebook.com\" },\n",
    "  { \"name\": \"知乎\", \"alexa\": \"103\", \"url\": \"https://www.zhihu.com\" },\n",
    "  { \"name\": \"Github\", \"alexa\": \"109\", \"url\": \"https://www.github.com\" }\n",
    "]\n",
    " \n",
    "x = mycol.insert_many(mylist)\n",
    " \n",
    "# 输出插入的所有文档对应的 _id 值\n",
    "print(x.inserted_ids)"
   ]
  },
  {
   "cell_type": "code",
   "execution_count": 10,
   "metadata": {},
   "outputs": [
    {
     "name": "stdout",
     "output_type": "stream",
     "text": [
      "{'_id': ObjectId('5daecbac2b0e8f64343f9792'), 'name': 'RUNOOB', 'alexa': '10000', 'url': 'https://www.runoob.com'}\n"
     ]
    }
   ],
   "source": [
    "import pymongo\n",
    " \n",
    "myclient = pymongo.MongoClient(\"mongodb://mongodb:27017/\")\n",
    "mydb = myclient[\"runoobdb\"]\n",
    "mycol = mydb[\"sites\"]\n",
    " \n",
    "x = mycol.find_one()\n",
    " \n",
    "print(x)"
   ]
  },
  {
   "cell_type": "code",
   "execution_count": 14,
   "metadata": {},
   "outputs": [
    {
     "name": "stdout",
     "output_type": "stream",
     "text": [
      "{'_id': ObjectId('5daecbac2b0e8f64343f9792'), 'name': 'RUNOOB', 'alexa': '10000', 'url': 'https://www.runoob.com'}\n",
      "{'_id': ObjectId('5daecc4f2b0e8f64343f979c'), 'name': 'Taobao', 'alexa': '100', 'url': 'https://www.taobao.com'}\n",
      "{'_id': ObjectId('5daecc4f2b0e8f64343f979d'), 'name': 'QQ', 'alexa': '101', 'url': 'https://www.qq.com'}\n",
      "{'_id': ObjectId('5daecc4f2b0e8f64343f979e'), 'name': 'Facebook', 'alexa': '10', 'url': 'https://www.facebook.com'}\n",
      "{'_id': ObjectId('5daecc4f2b0e8f64343f979f'), 'name': '知乎', 'alexa': '103', 'url': 'https://www.zhihu.com'}\n",
      "{'_id': ObjectId('5daecc4f2b0e8f64343f97a0'), 'name': 'Github', 'alexa': '109', 'url': 'https://www.github.com'}\n"
     ]
    }
   ],
   "source": [
    "import pymongo\n",
    " \n",
    "myclient = pymongo.MongoClient(\"mongodb://mongodb:27017/\")\n",
    "mydb = myclient[\"runoobdb\"]\n",
    "mycol = mydb[\"sites\"]\n",
    " \n",
    "for x in mycol.find():\n",
    "  print(x)"
   ]
  }
 ],
 "metadata": {
  "kernelspec": {
   "display_name": "Python 3",
   "language": "python",
   "name": "python3"
  },
  "language_info": {
   "codemirror_mode": {
    "name": "ipython",
    "version": 3
   },
   "file_extension": ".py",
   "mimetype": "text/x-python",
   "name": "python",
   "nbconvert_exporter": "python",
   "pygments_lexer": "ipython3",
   "version": "3.7.4"
  }
 },
 "nbformat": 4,
 "nbformat_minor": 2
}
