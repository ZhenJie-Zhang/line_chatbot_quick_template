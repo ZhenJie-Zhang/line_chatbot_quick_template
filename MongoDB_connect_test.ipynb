{
 "cells": [
  {
   "cell_type": "code",
   "execution_count": 1,
   "metadata": {},
   "outputs": [],
   "source": [
    " import pymongo\n",
    "\n",
    "# 與 MongoDB連線\n",
    "client = pymongo.MongoClient(host=\"mongodb\", port=27017)\n",
    "# 指定為 test 資料庫\n",
    "db = client.test\n",
    "# 指定 temp_humidity 集合, MongoDB的每個資料庫又包含許多集合(collection), 類似於關聯性資料庫中的表\n",
    "collection = db.bpm"
   ]
  },
  {
   "cell_type": "code",
   "execution_count": 2,
   "metadata": {
    "scrolled": false
   },
   "outputs": [
    {
     "name": "stdout",
     "output_type": "stream",
     "text": [
      "Collection(Database(MongoClient(host=['mongodb:27017'], document_class=dict, tz_aware=False, connect=True), 'test'), 'bpm')\n"
     ]
    }
   ],
   "source": [
    "print(collection)"
   ]
  },
  {
   "cell_type": "code",
   "execution_count": 3,
   "metadata": {},
   "outputs": [
    {
     "data": {
      "text/plain": [
       "['admin', 'config', 'local']"
      ]
     },
     "execution_count": 3,
     "metadata": {},
     "output_type": "execute_result"
    }
   ],
   "source": [
    "client.list_database_names()"
   ]
  },
  {
   "cell_type": "code",
   "execution_count": 4,
   "metadata": {},
   "outputs": [
    {
     "data": {
      "text/plain": [
       "Database(MongoClient(host=['mongodb:27017'], document_class=dict, tz_aware=False, connect=True), 'runoobdb')"
      ]
     },
     "execution_count": 4,
     "metadata": {},
     "output_type": "execute_result"
    }
   ],
   "source": [
    "client[\"runoobdb\"]"
   ]
  },
  {
   "cell_type": "code",
   "execution_count": 5,
   "metadata": {},
   "outputs": [
    {
     "name": "stdout",
     "output_type": "stream",
     "text": [
      "<pymongo.results.InsertOneResult object at 0x7fecc8ed3a88>\n",
      "<pymongo.results.InsertOneResult object at 0x7fecc8ed3a88>\n"
     ]
    }
   ],
   "source": [
    "import pymongo\n",
    " \n",
    "myclient = pymongo.MongoClient(\"mongodb://mongodb:27017/\")\n",
    "mydb = myclient[\"runoobdb\"]\n",
    "mycol = mydb[\"sites\"]\n",
    " \n",
    "mydict = { \"name\": \"RUNOOB\", \"alexa\": \"10000\", \"url\": \"https://www.runoob.com\" }\n",
    " \n",
    "x = mycol.insert_one(mydict) \n",
    "print(x)\n",
    "print(x)"
   ]
  },
  {
   "cell_type": "code",
   "execution_count": 6,
   "metadata": {},
   "outputs": [
    {
     "name": "stdout",
     "output_type": "stream",
     "text": [
      "[ObjectId('5dbcf730a3f77b6556c20d2f'), ObjectId('5dbcf730a3f77b6556c20d30'), ObjectId('5dbcf730a3f77b6556c20d31'), ObjectId('5dbcf730a3f77b6556c20d32'), ObjectId('5dbcf730a3f77b6556c20d33')]\n"
     ]
    }
   ],
   "source": [
    "import pymongo\n",
    " \n",
    "myclient = pymongo.MongoClient(\"mongodb://mongodb:27017/\")\n",
    "mydb = myclient[\"runoobdb\"]\n",
    "mycol = mydb[\"sites\"]\n",
    " \n",
    "mylist = [\n",
    "  { \"name\": \"Taobao\", \"alexa\": \"100\", \"url\": \"https://www.taobao.com\" },\n",
    "  { \"name\": \"QQ\", \"alexa\": \"101\", \"url\": \"https://www.qq.com\" },\n",
    "  { \"name\": \"Facebook\", \"alexa\": \"10\", \"url\": \"https://www.facebook.com\" },\n",
    "  { \"name\": \"知乎\", \"alexa\": \"103\", \"url\": \"https://www.zhihu.com\" },\n",
    "  { \"name\": \"Github\", \"alexa\": \"109\", \"url\": \"https://www.github.com\" }\n",
    "]\n",
    " \n",
    "x = mycol.insert_many(mylist)\n",
    " \n",
    "# 输出插入的所有文档对应的 _id 值\n",
    "print(x.inserted_ids)"
   ]
  },
  {
   "cell_type": "code",
   "execution_count": 7,
   "metadata": {},
   "outputs": [
    {
     "name": "stdout",
     "output_type": "stream",
     "text": [
      "{'_id': ObjectId('5dbcf6ffa3f77b6556c20d2d'), 'name': 'RUNOOB', 'alexa': '10000', 'url': 'https://www.runoob.com'}\n"
     ]
    }
   ],
   "source": [
    "import pymongo\n",
    " \n",
    "myclient = pymongo.MongoClient(\"mongodb://mongodb:27017/\")\n",
    "mydb = myclient[\"runoobdb\"]\n",
    "mycol = mydb[\"sites\"]\n",
    " \n",
    "x = mycol.find_one()\n",
    " \n",
    "print(x)"
   ]
  },
  {
   "cell_type": "code",
   "execution_count": 8,
   "metadata": {},
   "outputs": [
    {
     "name": "stdout",
     "output_type": "stream",
     "text": [
      "{'_id': ObjectId('5dbcf6ffa3f77b6556c20d2d'), 'name': 'RUNOOB', 'alexa': '10000', 'url': 'https://www.runoob.com'}\n",
      "{'_id': ObjectId('5dbcf730a3f77b6556c20d2f'), 'name': 'Taobao', 'alexa': '100', 'url': 'https://www.taobao.com'}\n",
      "{'_id': ObjectId('5dbcf730a3f77b6556c20d30'), 'name': 'QQ', 'alexa': '101', 'url': 'https://www.qq.com'}\n",
      "{'_id': ObjectId('5dbcf730a3f77b6556c20d31'), 'name': 'Facebook', 'alexa': '10', 'url': 'https://www.facebook.com'}\n",
      "{'_id': ObjectId('5dbcf730a3f77b6556c20d32'), 'name': '知乎', 'alexa': '103', 'url': 'https://www.zhihu.com'}\n",
      "{'_id': ObjectId('5dbcf730a3f77b6556c20d33'), 'name': 'Github', 'alexa': '109', 'url': 'https://www.github.com'}\n"
     ]
    }
   ],
   "source": [
    "import pymongo\n",
    " \n",
    "myclient = pymongo.MongoClient(\"mongodb://mongodb:27017/\")\n",
    "mydb = myclient[\"runoobdb\"]\n",
    "mycol = mydb[\"sites\"]\n",
    " \n",
    "for x in mycol.find():\n",
    "  print(x)"
   ]
  },
  {
   "cell_type": "markdown",
   "metadata": {},
   "source": [
    "# 測試寫入資料"
   ]
  },
  {
   "cell_type": "code",
   "execution_count": 9,
   "metadata": {},
   "outputs": [
    {
     "data": {
      "text/plain": [
       "['admin', 'config', 'local', 'runoobdb']"
      ]
     },
     "execution_count": 9,
     "metadata": {},
     "output_type": "execute_result"
    }
   ],
   "source": [
    "# 檢查有哪些 database\n",
    "client.list_database_names()"
   ]
  },
  {
   "cell_type": "code",
   "execution_count": 14,
   "metadata": {},
   "outputs": [
    {
     "name": "stdout",
     "output_type": "stream",
     "text": [
      "<pymongo.results.InsertOneResult object at 0x7fecc8681948>\n",
      "<pymongo.results.InsertOneResult object at 0x7fecc8681948>\n"
     ]
    }
   ],
   "source": [
    "# 創建名為 testdb 的 DB\n",
    "#         test 的 table\n",
    "#         內容為 mydict = { \"name\": \"nike\", \"gender\": \"M\", \"age\": \"21-30\" }\n",
    "\n",
    "import pymongo\n",
    " \n",
    "myclient = pymongo.MongoClient(\"mongodb://mongodb:27017/\")\n",
    "mydb = myclient[\"testdb\"]\n",
    "mycol = mydb[\"test\"]\n",
    " \n",
    "mydict = { \"brand\": \"nike\", \"gender\": \"M\", \"age\": \"21-30\" }\n",
    " \n",
    "x = mycol.insert_one(mydict) \n",
    "print(x)\n",
    "print(x)"
   ]
  },
  {
   "cell_type": "code",
   "execution_count": 32,
   "metadata": {},
   "outputs": [
    {
     "data": {
      "text/plain": [
       "['admin', 'config', 'local', 'runoobdb', 'testdb']"
      ]
     },
     "execution_count": 32,
     "metadata": {},
     "output_type": "execute_result"
    }
   ],
   "source": [
    "# 檢查DB 是否創建\n",
    "client.list_database_names()"
   ]
  },
  {
   "cell_type": "markdown",
   "metadata": {},
   "source": [
    "# 檢查寫入資料"
   ]
  },
  {
   "cell_type": "code",
   "execution_count": 16,
   "metadata": {},
   "outputs": [
    {
     "name": "stdout",
     "output_type": "stream",
     "text": [
      "{'_id': ObjectId('5dbcfc96a3f77b6556c20d37'), 'name': 'nike', 'gender': 'M', 'age': '21-30'}\n"
     ]
    }
   ],
   "source": [
    "import pymongo\n",
    " \n",
    "myclient = pymongo.MongoClient(\"mongodb://mongodb:27017/\")\n",
    "mydb = myclient[\"testdb\"]\n",
    "mycol = mydb[\"test\"]\n",
    " \n",
    "x = mycol.find_one()\n",
    " \n",
    "print(x)"
   ]
  },
  {
   "cell_type": "markdown",
   "metadata": {},
   "source": [
    "# 一次寫入多筆資料"
   ]
  },
  {
   "cell_type": "code",
   "execution_count": 17,
   "metadata": {},
   "outputs": [
    {
     "name": "stdout",
     "output_type": "stream",
     "text": [
      "[ObjectId('5dbd1626a3f77b6556c20d3a'), ObjectId('5dbd1626a3f77b6556c20d3b'), ObjectId('5dbd1626a3f77b6556c20d3c'), ObjectId('5dbd1626a3f77b6556c20d3d'), ObjectId('5dbd1626a3f77b6556c20d3e')]\n"
     ]
    }
   ],
   "source": [
    "import pymongo\n",
    " \n",
    "myclient = pymongo.MongoClient(\"mongodb://mongodb:27017/\")\n",
    "mydb = myclient[\"testdb\"]\n",
    "mycol = mydb[\"test\"]\n",
    " \n",
    "mylist = [\n",
    "  { \"brand\": \"nike\", \"gender\": \"M\", \"age\": \"21-30\" },\n",
    "  { \"brand\": \"adidas\", \"gender\": \"W\", \"age\": \"31-40\" },\n",
    "  { \"brand\": \"nike\", \"gender\": \"W\", \"age\": \"21-30\" },\n",
    "  { \"brand\": \"puma\", \"gender\": \"W\", \"age\": \"21-30\" },\n",
    "  { \"brand\": \"skecher\", \"gender\": \"M\", \"age\": \"41-50\" }\n",
    "]\n",
    " \n",
    "x = mycol.insert_many(mylist)\n",
    " \n",
    "# 输出插入的所有文档对应的 _id 值\n",
    "print(x.inserted_ids)"
   ]
  },
  {
   "cell_type": "markdown",
   "metadata": {},
   "source": [
    "# 看所有資料"
   ]
  },
  {
   "cell_type": "code",
   "execution_count": 25,
   "metadata": {},
   "outputs": [
    {
     "name": "stdout",
     "output_type": "stream",
     "text": [
      "{'_id': ObjectId('5dbcfc96a3f77b6556c20d37'), 'name': 'nike', 'gender': 'M', 'age': '21-30'}\n",
      "{'_id': ObjectId('5dbd1626a3f77b6556c20d3a'), 'brand': 'nike', 'gender': 'M', 'age': '21-30'}\n",
      "{'_id': ObjectId('5dbd1626a3f77b6556c20d3b'), 'brand': 'adidas', 'gender': 'W', 'age': '31-40'}\n",
      "{'_id': ObjectId('5dbd1626a3f77b6556c20d3c'), 'brand': 'nike', 'gender': 'W', 'age': '21-30'}\n",
      "{'_id': ObjectId('5dbd1626a3f77b6556c20d3d'), 'brand': 'puma', 'gender': 'W', 'age': '21-30'}\n",
      "{'_id': ObjectId('5dbd1626a3f77b6556c20d3e'), 'brand': 'skecher', 'gender': 'M', 'age': '41-50'}\n"
     ]
    }
   ],
   "source": [
    "import pymongo\n",
    "import json \n",
    "    \n",
    "myclient = pymongo.MongoClient(\"mongodb://mongodb:27017/\")\n",
    "mydb = myclient[\"testdb\"]\n",
    "mycol = mydb[\"test\"]\n",
    " \n",
    "for x in mycol.find():\n",
    "  print(x)"
   ]
  },
  {
   "cell_type": "markdown",
   "metadata": {},
   "source": [
    "# 刪除一筆資料"
   ]
  },
  {
   "cell_type": "code",
   "execution_count": 29,
   "metadata": {},
   "outputs": [
    {
     "name": "stdout",
     "output_type": "stream",
     "text": [
      "{'_id': ObjectId('5dbd1626a3f77b6556c20d3a'), 'brand': 'nike', 'gender': 'M', 'age': '21-30'}\n",
      "{'_id': ObjectId('5dbd1626a3f77b6556c20d3b'), 'brand': 'adidas', 'gender': 'W', 'age': '31-40'}\n",
      "{'_id': ObjectId('5dbd1626a3f77b6556c20d3c'), 'brand': 'nike', 'gender': 'W', 'age': '21-30'}\n",
      "{'_id': ObjectId('5dbd1626a3f77b6556c20d3d'), 'brand': 'puma', 'gender': 'W', 'age': '21-30'}\n",
      "{'_id': ObjectId('5dbd1626a3f77b6556c20d3e'), 'brand': 'skecher', 'gender': 'M', 'age': '41-50'}\n"
     ]
    }
   ],
   "source": [
    "#!/usr/bin/python3\n",
    " \n",
    "import pymongo\n",
    " \n",
    "myclient = pymongo.MongoClient(\"mongodb://mongodb:27017/\")\n",
    "mydb = myclient[\"testdb\"]\n",
    "mycol = mydb[\"test\"]\n",
    " \n",
    "myquery = { \"name\": \"nike\" }\n",
    " \n",
    "mycol.delete_one(myquery)\n",
    " \n",
    "# 删除后输出\n",
    "for x in mycol.find():\n",
    "  print(x)"
   ]
  },
  {
   "cell_type": "markdown",
   "metadata": {},
   "source": [
    "# 刪除多筆資料"
   ]
  },
  {
   "cell_type": "code",
   "execution_count": 31,
   "metadata": {},
   "outputs": [
    {
     "name": "stdout",
     "output_type": "stream",
     "text": [
      "0 个文档已删除\n"
     ]
    }
   ],
   "source": [
    "#!/usr/bin/python3\n",
    " \n",
    "import pymongo\n",
    " \n",
    "myclient = pymongo.MongoClient(\"mongodb://mongodb:27017/\")\n",
    "mydb = myclient[\"testdb\"]\n",
    "mycol = mydb[\"test\"]\n",
    " \n",
    "# ========  刪除所有name 開頭為F 的資料  ============\n",
    "# myquery = { \"name\": {\"$regex\": \"^F\"} }\n",
    "# x = mycol.delete_many(myquery)\n",
    "# =================================================\n",
    "# ========  刪除所有資料  ==========================\n",
    "x = mycol.delete_many({})\n",
    "# ================================================\n",
    "print(x.deleted_count, \"个文档已删除\")\n",
    "for x in mycol.find():\n",
    "  print(x)"
   ]
  },
  {
   "cell_type": "markdown",
   "metadata": {},
   "source": [
    "# 刪除table"
   ]
  },
  {
   "cell_type": "code",
   "execution_count": 33,
   "metadata": {},
   "outputs": [],
   "source": [
    "#!/usr/bin/python3\n",
    " \n",
    "import pymongo\n",
    " \n",
    "myclient = pymongo.MongoClient(\"mongodb://mongodb:27017/\")\n",
    "mydb = myclient[\"testbdb\"]\n",
    "mycol = mydb[\"test\"]\n",
    " \n",
    "mycol.drop()"
   ]
  },
  {
   "cell_type": "markdown",
   "metadata": {},
   "source": [
    "# 檢查各個db下有哪些table"
   ]
  },
  {
   "cell_type": "code",
   "execution_count": 38,
   "metadata": {},
   "outputs": [
    {
     "name": "stdout",
     "output_type": "stream",
     "text": [
      "{\"admin\": [\"system.version\"], \"config\": [\"system.sessions\"], \"local\": [\"startup_log\"], \"runoobdb\": [\"sites\"], \"testdb\": [\"test\"]}\n"
     ]
    },
    {
     "name": "stderr",
     "output_type": "stream",
     "text": [
      "/root/miniconda3/lib/python3.7/site-packages/ipykernel_launcher.py:3: DeprecationWarning: database_names is deprecated. Use list_database_names instead.\n",
      "  This is separate from the ipykernel package so we can avoid doing imports until\n",
      "/root/miniconda3/lib/python3.7/site-packages/ipykernel_launcher.py:3: DeprecationWarning: collection_names is deprecated. Use list_collection_names instead.\n",
      "  This is separate from the ipykernel package so we can avoid doing imports until\n"
     ]
    }
   ],
   "source": [
    "client = pymongo.MongoClient(\"mongodb\", 27017, maxPoolSize=50)\n",
    "d = dict((db, [collection for collection in client[db].collection_names()])\n",
    "         for db in client.database_names())\n",
    "print(json.dumps(d))"
   ]
  }
 ],
 "metadata": {
  "kernelspec": {
   "display_name": "Python 3",
   "language": "python",
   "name": "python3"
  },
  "language_info": {
   "codemirror_mode": {
    "name": "ipython",
    "version": 3
   },
   "file_extension": ".py",
   "mimetype": "text/x-python",
   "name": "python",
   "nbconvert_exporter": "python",
   "pygments_lexer": "ipython3",
   "version": "3.7.3"
  }
 },
 "nbformat": 4,
 "nbformat_minor": 2
}
