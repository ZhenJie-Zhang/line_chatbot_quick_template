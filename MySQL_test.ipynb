{
 "cells": [
  {
   "cell_type": "code",
   "execution_count": 2,
   "metadata": {},
   "outputs": [
    {
     "name": "stdout",
     "output_type": "stream",
     "text": [
      "Database version : 10.1.41-MariaDB-1~bionic \n"
     ]
    }
   ],
   "source": [
    "import pymysql\n",
    "# 開啟資料庫連線\n",
    "db = pymysql.connect(\"chatbot_db\",\"root\",\"123456\",\"\" )\n",
    "# 使用 cursor() 方法建立一個遊標物件 cursor\n",
    "cursor = db.cursor()\n",
    "# 使用 execute()  方法執行 SQL 查詢 \n",
    "cursor.execute(\"SELECT VERSION()\")\n",
    "# 使用 fetchone() 方法獲取單條資料.\n",
    "data = cursor.fetchone()\n",
    "print (\"Database version : %s \" % data)\n",
    "# 關閉資料庫連線\n",
    "db.close()"
   ]
  },
  {
   "cell_type": "code",
   "execution_count": 4,
   "metadata": {},
   "outputs": [
    {
     "name": "stdout",
     "output_type": "stream",
     "text": [
      "1\n",
      "{'Database': 'NewDatabase'}\n",
      "{'Database': 'information_schema'}\n",
      "{'Database': 'mysql'}\n",
      "{'Database': 'performance_schema'}\n",
      "None\n"
     ]
    }
   ],
   "source": [
    "import pymysql\n",
    "\n",
    " \n",
    "\n",
    "# Create a connection object\n",
    "\n",
    "databaseServerIP            = \"chatbot_db\"  # IP address of the MySQL database server\n",
    "\n",
    "databaseUserName            = \"root\"        # User name of the database server\n",
    "\n",
    "databaseUserPassword        = \"123456\"      # Password for the database user\n",
    "\n",
    " \n",
    "\n",
    "newDatabaseName             = \"NewDatabase\" # Name of the database that is to be created\n",
    "\n",
    "charSet                     = \"utf8mb4\"     # Character set\n",
    "\n",
    "cusrorType                  = pymysql.cursors.DictCursor\n",
    "\n",
    " \n",
    "\n",
    "connectionInstance   = pymysql.connect(host=databaseServerIP, user=databaseUserName, password=databaseUserPassword,\n",
    "\n",
    "                                     charset=charSet,cursorclass=cusrorType)\n",
    "\n",
    "try:\n",
    "\n",
    "    # Create a cursor object\n",
    "    cursorInsatnce = connectionInstance.cursor()    \n",
    "    \n",
    "\n",
    "    # SQL Statement to create a database\n",
    "    sqlStatement = \"CREATE DATABASE \"+newDatabaseName  \n",
    "\n",
    "\n",
    "    # Execute the create database SQL statment through the cursor instance\n",
    "    print(cursorInsatnce.execute(sqlStatement))\n",
    "\n",
    "\n",
    "    # SQL query string\n",
    "    sqlQuery= \"SHOW DATABASES\"\n",
    "\n",
    "\n",
    "    # Execute the sqlQuery\n",
    "    cursorInsatnce.execute(sqlQuery)\n",
    "\n",
    "\n",
    "    #Fetch all the rows\n",
    "    databaseList = cursorInsatnce.fetchall()\n",
    "\n",
    "\n",
    "    for datatbase in databaseList:\n",
    "        print(datatbase)\n",
    " \n",
    "\n",
    "except Exception as e:\n",
    "    print(\"Exeception occured:{}\".format(e))\n",
    "\n",
    " \n",
    "\n",
    "finally:\n",
    "    print(connectionInstance.close())"
   ]
  }
 ],
 "metadata": {
  "kernelspec": {
   "display_name": "Python 3",
   "language": "python",
   "name": "python3"
  },
  "language_info": {
   "codemirror_mode": {
    "name": "ipython",
    "version": 3
   },
   "file_extension": ".py",
   "mimetype": "text/x-python",
   "name": "python",
   "nbconvert_exporter": "python",
   "pygments_lexer": "ipython3",
   "version": "3.7.3"
  }
 },
 "nbformat": 4,
 "nbformat_minor": 2
}
