{
 "cells": [
  {
   "cell_type": "code",
   "execution_count": 2,
   "metadata": {},
   "outputs": [
    {
     "name": "stdout",
     "output_type": "stream",
     "text": [
      "obj.data  obj.names  weights  yolov3.cfg\r\n"
     ]
    }
   ],
   "source": [
    "!ls ../darknet/shoe_person/cfg/"
   ]
  },
  {
   "cell_type": "code",
   "execution_count": 3,
   "metadata": {},
   "outputs": [
    {
     "name": "stdout",
     "output_type": "stream",
     "text": [
      "/root/linechatbot\r\n"
     ]
    }
   ],
   "source": [
    "!pwd"
   ]
  },
  {
   "cell_type": "code",
   "execution_count": 15,
   "metadata": {},
   "outputs": [
    {
     "name": "stdout",
     "output_type": "stream",
     "text": [
      "obj.data  obj.names  \u001b[0m\u001b[01;34mweights\u001b[0m/  yolov3.cfg\r\n"
     ]
    }
   ],
   "source": [
    "ls ../darknet/shoe_person/cfg/"
   ]
  },
  {
   "cell_type": "code",
   "execution_count": 17,
   "metadata": {},
   "outputs": [
    {
     "data": {
      "text/plain": [
       "0"
      ]
     },
     "execution_count": 17,
     "metadata": {},
     "output_type": "execute_result"
    }
   ],
   "source": [
    "import os\n",
    "os.system(\"\"\"\n",
    "        ./darknet detector test \\\n",
    "        shoe_person/cfg/obj.data \\\n",
    "        shoe_person/cfg/yolov3.cfg \\\n",
    "        shoe_person/cfg/weights/yolov3_last.weights \\\n",
    "        data/test3.jpg \\\n",
    "        -dont_show &\n",
    "        \"\"\")"
   ]
  },
  {
   "cell_type": "code",
   "execution_count": 1,
   "metadata": {
    "scrolled": true
   },
   "outputs": [
    {
     "name": "stdout",
     "output_type": "stream",
     "text": [
      "Couldn't open file: ./shoe_person/cfg/obj.names\r\n"
     ]
    }
   ],
   "source": [
    "!../darknet/darknet detector test \\\n",
    "../darknet/shoe_person/cfg/obj.data \\\n",
    "../darknet/shoe_person/cfg/yolov3.cfg \\\n",
    "../darknet/shoe_person/cfg/weight/yolov3_last.weights \\\n",
    "../darknet/data/white-sneaker-picks-main.jpg -dont_show\n"
   ]
  },
  {
   "cell_type": "code",
   "execution_count": 9,
   "metadata": {},
   "outputs": [
    {
     "name": "stdout",
     "output_type": "stream",
     "text": [
      "\n",
      " seen 64 \n",
      "data/test.jpg: Predicted in 32985.261000 milli-seconds.\n",
      "shoe: 68%\n",
      "\n"
     ]
    }
   ],
   "source": [
    "import os\n",
    "\n",
    "def test_pic():\n",
    "    os.chdir(\"/root/darknet\")\n",
    "    cmd =\"\"\"\n",
    "        ./darknet detector test \\\n",
    "        shoe_person/cfg/obj.data \\\n",
    "        shoe_person/cfg/yolov3.cfg \\\n",
    "        shoe_person/cfg/weights/yolov3_last.weights -thresh 0.5\\\n",
    "        data/test.jpg \\\n",
    "        -dont_show &\n",
    "        \"\"\"\n",
    "#     os.popen(cmd)\n",
    "    cmd_res = os.popen(cmd).read()\n",
    "    print(cmd_res)\n",
    "test_pic()"
   ]
  },
  {
   "cell_type": "code",
   "execution_count": 8,
   "metadata": {},
   "outputs": [
    {
     "data": {
      "text/plain": [
       "'/root/linechatbot'"
      ]
     },
     "execution_count": 8,
     "metadata": {},
     "output_type": "execute_result"
    }
   ],
   "source": [
    "pwd"
   ]
  },
  {
   "cell_type": "code",
   "execution_count": 2,
   "metadata": {},
   "outputs": [
    {
     "name": "stdout",
     "output_type": "stream",
     "text": [
      "ttttt\n",
      "\n",
      "\n"
     ]
    }
   ],
   "source": [
    "darknet.dark.test()"
   ]
  },
  {
   "cell_type": "code",
   "execution_count": 23,
   "metadata": {},
   "outputs": [
    {
     "name": "stdout",
     "output_type": "stream",
     "text": [
      "total 3616\n",
      "-rwxrwxrwx  1   1001  1002   12904 Oct  8 14:06 app.ipynb\n",
      "-rwxrwxrwx  1   1001  1002    6531 Oct  8 11:29 app.py\n",
      "-rw-r--r--  1 jovyan users   97077 Oct  9 07:21 bad.list\n",
      "-rwxrwxrwx  1   1001  1002     277 Oct  8 11:29 build.sh\n",
      "drwxrwxrwx 20   1001  1002    4096 Oct  9 07:31 darknet\n",
      "-rwxrwxrwx  1   1001  1002 1481052 Oct  8 11:29 demo.lbd\n",
      "-rwxrwxrwx  1   1001  1002     600 Oct  8 13:40 docker-compose.yml\n",
      "-rwxrwxrwx  1   1001  1002      77 Oct  8 11:29 dockerfile\n",
      "-rwxrwxrwx  1   1001  1002     399 Oct  8 13:15 line_secret_key\n",
      "-rw-r--r--  1 jovyan users 1924417 Oct  9 07:21 predictions.jpg\n",
      "-rwxrwxrwx  1   1001  1002      19 Oct  8 11:29 Procfile\n",
      "-rwxrwxrwx  1   1001  1002     562 Oct  8 11:29 README.md\n",
      "-rwxrwxrwx  1   1001  1002      19 Oct  8 11:29 requirements.txt\n",
      "-rwxrwxrwx  1   1001  1002   25735 Oct  8 14:02 rich_menu.ipynb\n",
      "-rwxrwxrwx  1   1001  1002     885 Oct  8 11:29 start.sh\n",
      "-rwxrwxrwx  1   1001  1002      59 Oct  8 11:29 stop.sh\n",
      "-rw-r--r--  1 jovyan users   82684 Oct  9 07:33 Test.ipynb\n",
      "-rwxrwxrwx  1   1001  1002     779 Oct  8 11:29 tunnels.json\n",
      "-rwxrwxrwx  1   1001  1002       6 Oct  8 11:29 VERSION\n",
      "drwxrwxrwx 29   1001  1002    4096 Oct  8 11:29 素材\n",
      "\n"
     ]
    }
   ],
   "source": [
    "import os\n",
    "\n",
    "cmd_res = os.popen(\"ls -l\").read()\n",
    "print(cmd_res)"
   ]
  },
  {
   "cell_type": "code",
   "execution_count": 14,
   "metadata": {
    "scrolled": true
   },
   "outputs": [],
   "source": [
    "test_pic()"
   ]
  },
  {
   "cell_type": "code",
   "execution_count": 5,
   "metadata": {},
   "outputs": [
    {
     "name": "stdout",
     "output_type": "stream",
     "text": [
      "img_1_2_0_shoe.jpg\n",
      "img_1_1_0_shoe.jpg\n"
     ]
    }
   ],
   "source": [
    "import os\n",
    "import shutil\n",
    "\n",
    "origin_pwd = '/root/darknet/result_img/'\n",
    "des_pwd = '/root/linechatbot/素材/'\n",
    "\n",
    "img_list = os.listdir(origin_pwd)\n",
    "\n",
    "for i in img_list:\n",
    "    if 'shoe' in i:\n",
    "        print(i)\n",
    "        shutil.copyfile(origin_pwd+i, des_pwd+i)"
   ]
  },
  {
   "cell_type": "code",
   "execution_count": 1,
   "metadata": {},
   "outputs": [
    {
     "name": "stdout",
     "output_type": "stream",
     "text": [
      "testing..\n"
     ]
    }
   ],
   "source": [
    "from darknet_test import test_pic\n",
    "\n",
    "test_pic()"
   ]
  },
  {
   "cell_type": "code",
   "execution_count": 9,
   "metadata": {},
   "outputs": [
    {
     "name": "stdout",
     "output_type": "stream",
     "text": [
      "/bin/sh: 1: Syntax error: redirection unexpected\r\n"
     ]
    }
   ],
   "source": [
    "!bash -c \"cd /root/darknet; \\\n",
    "./darknet detector test shoe_person/cfg/obj.data \\\n",
    "shoe_person/cfg/yolov3.cfg \\\n",
    "shoe_person/cfg/weights/yolov3_last.weights \\\n",
    "data/test.jpg \\\n",
    "-dont_show && \\\n",
    "for f in ./result_img/*.jpg ; \\\n",
    "do \\\n",
    "mv -- \"$f\" \"/root/linechatbot/material/user/U61e9b248bba23f4957cc97f29d4efcb5/$(($(date +%s%N)/1000000))_$(cut -d\"/\" -f3 <<< \"$f\")\" ; \\\n",
    "done &\""
   ]
  },
  {
   "cell_type": "code",
   "execution_count": 11,
   "metadata": {},
   "outputs": [
    {
     "name": "stdout",
     "output_type": "stream",
     "text": [
      "bash: -c: line 0: syntax error near unexpected token `echo'\r\n",
      "bash: -c: line 0: `cd /root/darknet;  ./darknet detector test shoe_person/cfg/obj.data  shoe_person/cfg/yolov3.cfg  shoe_person/cfg/weights/yolov3_last.weights  data/test.jpg  -dont_show &&  for f in /root/darknet/result_img/*.jpg ;  echo  &'\r\n"
     ]
    }
   ],
   "source": [
    "!bash -c \"cd /root/darknet; \\\n",
    "./darknet detector test shoe_person/cfg/obj.data \\\n",
    "shoe_person/cfg/yolov3.cfg \\\n",
    "shoe_person/cfg/weights/yolov3_last.weights \\\n",
    "data/test.jpg \\\n",
    "-dont_show && \\\n",
    "for f in /root/darknet/result_img/*.jpg ; \\\n",
    "echo $f &\""
   ]
  }
 ],
 "metadata": {
  "kernelspec": {
   "display_name": "Python 3",
   "language": "python",
   "name": "python3"
  },
  "language_info": {
   "codemirror_mode": {
    "name": "ipython",
    "version": 3
   },
   "file_extension": ".py",
   "mimetype": "text/x-python",
   "name": "python",
   "nbconvert_exporter": "python",
   "pygments_lexer": "ipython3",
   "version": "3.7.3"
  }
 },
 "nbformat": 4,
 "nbformat_minor": 2
}
