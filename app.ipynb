{
 "cells": [
  {
   "cell_type": "code",
   "execution_count": 1,
   "metadata": {},
   "outputs": [
    {
     "name": "stdout",
     "output_type": "stream",
     "text": [
      "Database version : 10.1.41-MariaDB-1~bionic \n"
     ]
    }
   ],
   "source": [
    "import pymysql\n",
    "# 開啟資料庫連線\n",
    "db = pymysql.connect(\"chatbot_db\",\"root\",\"123456\",\"\" )\n",
    "# 使用 cursor() 方法建立一個遊標物件 cursor\n",
    "cursor = db.cursor()\n",
    "# 使用 execute()  方法執行 SQL 查詢 \n",
    "cursor.execute(\"SELECT VERSION()\")\n",
    "# 使用 fetchone() 方法獲取單條資料.\n",
    "data = cursor.fetchone()\n",
    "print (\"Database version : %s \" % data)\n",
    "# 關閉資料庫連線\n",
    "db.close()\n"
   ]
  },
  {
   "cell_type": "code",
   "execution_count": 2,
   "metadata": {},
   "outputs": [],
   "source": [
    "# test_pic()"
   ]
  },
  {
   "cell_type": "code",
   "execution_count": 3,
   "metadata": {},
   "outputs": [
    {
     "data": {
      "text/plain": [
       "'\\n\\n整體功能描述\\n\\n'"
      ]
     },
     "execution_count": 3,
     "metadata": {},
     "output_type": "execute_result"
    }
   ],
   "source": [
    "'''\n",
    "\n",
    "整體功能描述\n",
    "\n",
    "'''"
   ]
  },
  {
   "cell_type": "code",
   "execution_count": 4,
   "metadata": {},
   "outputs": [],
   "source": [
    "'''\n",
    "\n",
    "Application 主架構\n",
    "\n",
    "'''\n",
    "\n",
    "# 引用Web Server套件\n",
    "from flask import Flask, request, abort\n",
    "\n",
    "# 從linebot 套件包裡引用 LineBotApi 與 WebhookHandler 類別\n",
    "from linebot import (\n",
    "    LineBotApi, WebhookHandler\n",
    ")\n",
    "\n",
    "# 引用無效簽章錯誤\n",
    "from linebot.exceptions import (\n",
    "    InvalidSignatureError\n",
    ")\n",
    "\n",
    "# 載入json處理套件\n",
    "import json\n",
    "\n",
    "# 載入基礎設定檔\n",
    "secretFileContentJson=json.load(open(\"./line_secret_key\",'r'))\n",
    "server_url=secretFileContentJson.get(\"server_url\")\n",
    "\n",
    "# 設定Server啟用細節\n",
    "app = Flask(__name__,static_url_path = \"/material\" , static_folder = \"./material/\")\n",
    "\n",
    "# 生成實體物件\n",
    "line_bot_api = LineBotApi(secretFileContentJson.get(\"channel_access_token\"))\n",
    "handler = WebhookHandler(secretFileContentJson.get(\"secret_key\"))\n",
    "\n",
    "# 啟動server對外接口，使Line能丟消息進來\n",
    "@app.route(\"/\", methods=['POST'])\n",
    "def callback():\n",
    "    # get X-Line-Signature header value\n",
    "    signature = request.headers['X-Line-Signature']\n",
    "\n",
    "    # get request body as text\n",
    "    body = request.get_data(as_text=True)\n",
    "    app.logger.info(\"Request body: \" + body)\n",
    "\n",
    "    # handle webhook body\n",
    "    try:\n",
    "        handler.handle(body, signature)\n",
    "    except InvalidSignatureError:\n",
    "        abort(400)\n",
    "\n",
    "    return 'OK'"
   ]
  },
  {
   "cell_type": "code",
   "execution_count": 5,
   "metadata": {},
   "outputs": [],
   "source": [
    "'''\n",
    "\n",
    "消息判斷器\n",
    "\n",
    "讀取指定的json檔案後，把json解析成不同格式的SendMessage\n",
    "\n",
    "讀取檔案，\n",
    "把內容轉換成json\n",
    "將json轉換成消息\n",
    "放回array中，並把array傳出。\n",
    "\n",
    "'''\n",
    "\n",
    "# 引用會用到的套件\n",
    "from linebot.models import (\n",
    "    ImagemapSendMessage,TextSendMessage,ImageSendMessage,LocationSendMessage,FlexSendMessage\n",
    ")\n",
    "\n",
    "from linebot.models.template import (\n",
    "    ButtonsTemplate,CarouselTemplate,ConfirmTemplate,ImageCarouselTemplate\n",
    "    \n",
    ")\n",
    "\n",
    "from linebot.models.template import *\n",
    "\n",
    "def detect_json_array_to_new_message_array(fileName):\n",
    "    \n",
    "    #開啟檔案，轉成json\n",
    "    with open(fileName) as f:\n",
    "        jsonArray = json.load(f)\n",
    "    \n",
    "    # 解析json\n",
    "    returnArray = []\n",
    "    for jsonObject in jsonArray:\n",
    "\n",
    "        # 讀取其用來判斷的元件\n",
    "        message_type = jsonObject.get('type')\n",
    "        \n",
    "        # 轉換\n",
    "        if message_type == 'text':\n",
    "            returnArray.append(TextSendMessage.new_from_json_dict(jsonObject))\n",
    "        elif message_type == 'imagemap':\n",
    "            returnArray.append(ImagemapSendMessage.new_from_json_dict(jsonObject))\n",
    "        elif message_type == 'template':\n",
    "            returnArray.append(TemplateSendMessage.new_from_json_dict(jsonObject))\n",
    "        elif message_type == 'image':\n",
    "            returnArray.append(ImageSendMessage.new_from_json_dict(jsonObject))\n",
    "        elif message_type == 'sticker':\n",
    "            returnArray.append(StickerSendMessage.new_from_json_dict(jsonObject))  \n",
    "        elif message_type == 'audio':\n",
    "            returnArray.append(AudioSendMessage.new_from_json_dict(jsonObject))  \n",
    "        elif message_type == 'location':\n",
    "            returnArray.append(LocationSendMessage.new_from_json_dict(jsonObject))\n",
    "        elif message_type == 'flex':\n",
    "            returnArray.append(FlexSendMessage.new_from_json_dict(jsonObject))    \n",
    "\n",
    "    # 回傳\n",
    "    return returnArray"
   ]
  },
  {
   "cell_type": "code",
   "execution_count": 6,
   "metadata": {},
   "outputs": [],
   "source": [
    "'''\n",
    "\n",
    "handler處理關注消息\n",
    "\n",
    "用戶關注時，讀取 素材 -> 關注 -> reply.json\n",
    "\n",
    "將其轉換成可寄發的消息，傳回給Line\n",
    "\n",
    "'''\n",
    "\n",
    "# 引用套件\n",
    "from linebot.models import (\n",
    "    FollowEvent\n",
    ")\n",
    "\n",
    "# 關注事件處理\n",
    "@handler.add(FollowEvent)\n",
    "def process_follow_event(event):\n",
    "    \n",
    "    # 讀取並轉換\n",
    "    result_message_array =[]\n",
    "    replyJsonPath = \"material/關注/reply.json\"\n",
    "    result_message_array = detect_json_array_to_new_message_array(replyJsonPath)\n",
    "    \n",
    "    # 呼叫個人用戶名，與用戶第一次接觸打招呼\n",
    "    user_profile = line_bot_api.get_profile(event.source.user_id)\n",
    "    hello = {\n",
    "      \"type\": \"text\",\n",
    "      \"text\": \"哈囉!\" + str(user_profile.display_name) + \"\\n歡迎您使用「履視步爽」\"\n",
    "    }\n",
    "    result_message_array.insert(0, TextSendMessage.new_from_json_dict(hello))\n",
    "\n",
    "    # 消息發送\n",
    "    line_bot_api.reply_message(\n",
    "        event.reply_token,\n",
    "        result_message_array\n",
    "    )"
   ]
  },
  {
   "cell_type": "code",
   "execution_count": 7,
   "metadata": {},
   "outputs": [],
   "source": [
    "'''\n",
    "\n",
    "handler處理文字消息\n",
    "\n",
    "收到用戶回應的文字消息，\n",
    "按文字消息內容，往素材資料夾中，找尋以該內容命名的資料夾，讀取裡面的reply.json\n",
    "\n",
    "轉譯json後，將消息回傳給用戶\n",
    "\n",
    "'''\n",
    "\n",
    "# 引用套件\n",
    "from linebot.models import (\n",
    "    MessageEvent, TextMessage\n",
    ")\n",
    "\n",
    "# 文字消息處理\n",
    "@handler.add(MessageEvent,message=TextMessage)\n",
    "def process_text_message(event):\n",
    "    print(event.message.text)\n",
    "    if '1' in event.message.text:\n",
    "        pwd = '/root/linechatbot/material/'\n",
    "        imgWaitToGetPost = [i for i in os.listdir(pwd) if '.jpg' in i]\n",
    "        pwd = '/root/darknet/result_img'\n",
    "        imgWaitToGetTest = [i for i in os.listdir(pwd) if '.jpg' in i]\n",
    "        print(imgWaitToGetPost)\n",
    "        if len(imgWaitToGetPost) == 0:\n",
    "            line_bot_api.reply_message(\n",
    "                event.reply_token,\n",
    "                TextSendMessage(text='測試中，請稍後輸入「1」確認')\n",
    "            )\n",
    "            CopyFileWaitToPost(event.message.id)\n",
    "        elif len(imgWaitToGetPost) != 0:\n",
    "            result_message_array = []\n",
    "            for img in imgWaitToGetPost:\n",
    "                url = 'https://sneaker.serveo.net/material/'+img\n",
    "                print(url)\n",
    "                String = \"\"\"ImageSendMessage(\n",
    "                             original_content_url=\"{}\",\n",
    "                             preview_image_url=\"{}\"\n",
    "                         )\"\"\".format(url, url)\n",
    "                result_message_array.append(eval(String))\n",
    "            line_bot_api.reply_message(\n",
    "                event.reply_token,\n",
    "                result_message_array\n",
    "            )\n",
    "        else:\n",
    "            line_bot_api.reply_message(\n",
    "                event.reply_token,\n",
    "                TextSendMessage(text='請上傳照片')\n",
    "            )\n",
    "            \n",
    "    \n",
    "    else:\n",
    "        # 讀取本地檔案，並轉譯成消息\n",
    "        result_message_array =[]\n",
    "        replyJsonPath = \"material/\"+event.message.text+\"/reply.json\"\n",
    "        result_message_array = detect_json_array_to_new_message_array(replyJsonPath)\n",
    "\n",
    "        # 發送\n",
    "        line_bot_api.reply_message(\n",
    "            event.reply_token,\n",
    "            result_message_array\n",
    "        )\n"
   ]
  },
  {
   "cell_type": "code",
   "execution_count": 8,
   "metadata": {},
   "outputs": [],
   "source": [
    "'''\n",
    "\n",
    "handler處理Postback Event\n",
    "\n",
    "載入功能選單與啟動特殊功能\n",
    "\n",
    "解析postback的data，並按照data欄位判斷處理\n",
    "\n",
    "現有三個欄位\n",
    "menu, folder, tag\n",
    "\n",
    "若folder欄位有值，則\n",
    "    讀取其reply.json，轉譯成消息，並發送\n",
    "\n",
    "若menu欄位有值，則\n",
    "    讀取其rich_menu_id，並取得用戶id，將用戶與選單綁定\n",
    "    讀取其reply.json，轉譯成消息，並發送\n",
    "\n",
    "'''\n",
    "from linebot.models import (\n",
    "    PostbackEvent\n",
    ")\n",
    "\n",
    "from urllib.parse import parse_qs \n",
    "\n",
    "@handler.add(PostbackEvent)\n",
    "def process_postback_event(event):\n",
    "    \n",
    "\n",
    "\n",
    "    query_string_dict = parse_qs(event.postback.data)\n",
    "    \n",
    "    print(query_string_dict)\n",
    "    if 'folder' in query_string_dict:\n",
    "    \n",
    "        result_message_array =[]\n",
    "\n",
    "        replyJsonPath = 'material/'+query_string_dict.get('folder')[0]+\"/reply.json\"\n",
    "        result_message_array = detect_json_array_to_new_message_array(replyJsonPath)\n",
    "  \n",
    "        line_bot_api.reply_message(\n",
    "            event.reply_token,\n",
    "            result_message_array\n",
    "        )\n",
    "    elif 'menu' in query_string_dict:\n",
    " \n",
    "        linkRichMenuId = open(\"material/\"+query_string_dict.get('menu')[0]+'/rich_menu_id', 'r').read()\n",
    "        line_bot_api.link_rich_menu_to_user(event.source.user_id,linkRichMenuId)\n",
    "        \n",
    "        replyJsonPath = 'material/'+query_string_dict.get('menu')[0]+\"/reply.json\"\n",
    "        result_message_array = detect_json_array_to_new_message_array(replyJsonPath)\n",
    "  \n",
    "        line_bot_api.reply_message(\n",
    "            event.reply_token,\n",
    "            result_message_array\n",
    "        )"
   ]
  },
  {
   "cell_type": "code",
   "execution_count": 9,
   "metadata": {},
   "outputs": [
    {
     "data": {
      "text/plain": [
       "'\\n    # ======================= 官方固定格式 ===============================\\n    app_color = ClarifaiApp(api_key=\\'0f82436fcad44c1cb8953ee52d563ef1\\')\\n    # model = app.public_models.general_model\\n    model = app_color.models.get(\\'color\\')\\n    # picnames = pic_list(\\'D:\\\\clarifai\\\\pictures\\')\\n    image = ClImage(filename=\\'/root/darknet/result_img/\\'+imgWaitToGetColor[-1])\\n    color_list = model.predict([image])[\"outputs\"][0][\"data\"][\"colors\"]\\n    # ===================================================================\\n#     print(color_list)\\n    color_datas = {}\\n    for color in color_list:\\n        color_id = color[\"raw_hex\"]\\n        color_pa = color[\"value\"]\\n        color_name = color[\"w3c\"][\"name\"]\\n#         print(\"color_data= \",  color_name, color_id + \"\\t\", str(color_pa * 100)[:5] + \"%\")\\n        color_datas[color_pa]=\\'main color = \\'+str(color_name) + \" \"+ str(color_id) + \" \" + str(color_pa * 100)[:5] + \"%\"\\n#     print(color_datas)\\n#     print(color_datas.keys())\\n    max_data = max(color_datas.keys())\\n    color_data = color_datas[max_data]\\n    print(color_data)\\n    \\n'"
      ]
     },
     "execution_count": 9,
     "metadata": {},
     "output_type": "execute_result"
    }
   ],
   "source": [
    "'''\n",
    "\n",
    "若收到圖片消息時，\n",
    "\n",
    "先回覆用戶文字消息，並從Line上將照片拿回。\n",
    "擷取主顏色\n",
    "\n",
    "'''\n",
    "#!pip install clarifai\n",
    "# 引用套件\n",
    "from linebot.models import ImageMessage\n",
    "from clarifai.rest import Image as ClImage\n",
    "from clarifai.rest import ClarifaiApp\n",
    "import os\n",
    "# from darknet_test import test_pic\n",
    "from time import sleep\n",
    "\n",
    "\n",
    "@handler.add(MessageEvent, message=ImageMessage)\n",
    "def handle_message(event):\n",
    "        \n",
    "    message_content = line_bot_api.get_message_content(event.message.id)\n",
    "    \n",
    "    with open('./images/'+event.message.id+'.jpg', 'wb') as fd:\n",
    "        for chunk in message_content.iter_content():\n",
    "            fd.write(chunk)\n",
    "\n",
    "    #同時存在一個，上限五則訊息\n",
    "    line_bot_api.reply_message(\n",
    "        event.reply_token,\n",
    "        [TextSendMessage(text='Image has Upload'+ ' ' + event.message.id+\"\\n\"),\n",
    "         TextSendMessage(text='等待30秒後，請輸入「1」確認')\n",
    "#          ImageSendMessage(\n",
    "#             original_content_url=img_url,\n",
    "#             preview_image_url=img_url\n",
    "#          )\n",
    "        ]\n",
    "    )        \n",
    " \n",
    "\n",
    "    #路徑為相對路徑\n",
    "    Image_shoes = './images/'+event.message.id+'.jpg'\n",
    "    \n",
    "    pwd = '/root/darknet/result_img/'\n",
    "    for img in [i for i in os.listdir(pwd) if '.jpg' in i]:\n",
    "        filepath = pwd + img\n",
    "        if os.path.exists(filepath):\n",
    "            os.remove(filepath)\n",
    "    pwd = '/root/linechatbot/material/'\n",
    "    for img in [i for i in os.listdir(pwd) if '.jpg' in i]:\n",
    "        filepath = pwd + img\n",
    "        if os.path.exists(filepath):\n",
    "            os.remove(filepath)\n",
    "  \n",
    "    # 送入darknet檢測照片\n",
    "    CopyFileWaitToTest(Image_shoes)\n",
    "    test_pic()\n",
    "    os.chdir(\"/root/linechatbot\")\n",
    "#     img_list = CopyFileWaitToPost(event.message.id)\n",
    "#     img_url ='https://sneaker.serveo.net/material/'+img_list[0]\n",
    "#     print(img_url)\n",
    "#     os.chdir(\"/root/linechatbot\")\n",
    "    \n",
    "#     imgWaitToGetColor = os.listdir('/root/darknet/result_img')\n",
    "#     print(imgWaitToGetColor)\n",
    "    \n",
    "'''\n",
    "    # ======================= 官方固定格式 ===============================\n",
    "    app_color = ClarifaiApp(api_key='0f82436fcad44c1cb8953ee52d563ef1')\n",
    "    # model = app.public_models.general_model\n",
    "    model = app_color.models.get('color')\n",
    "    # picnames = pic_list('D:\\clarifai\\pictures')\n",
    "    image = ClImage(filename='/root/darknet/result_img/'+imgWaitToGetColor[-1])\n",
    "    color_list = model.predict([image])[\"outputs\"][0][\"data\"][\"colors\"]\n",
    "    # ===================================================================\n",
    "#     print(color_list)\n",
    "    color_datas = {}\n",
    "    for color in color_list:\n",
    "        color_id = color[\"raw_hex\"]\n",
    "        color_pa = color[\"value\"]\n",
    "        color_name = color[\"w3c\"][\"name\"]\n",
    "#         print(\"color_data= \",  color_name, color_id + \"\\t\", str(color_pa * 100)[:5] + \"%\")\n",
    "        color_datas[color_pa]='main color = '+str(color_name) + \" \"+ str(color_id) + \" \" + str(color_pa * 100)[:5] + \"%\"\n",
    "#     print(color_datas)\n",
    "#     print(color_datas.keys())\n",
    "    max_data = max(color_datas.keys())\n",
    "    color_data = color_datas[max_data]\n",
    "    print(color_data)\n",
    "    \n",
    "'''\n"
   ]
  },
  {
   "cell_type": "code",
   "execution_count": 10,
   "metadata": {},
   "outputs": [],
   "source": [
    "from clarifai.rest import Image as ClImage\n",
    "from clarifai.rest import ClarifaiApp\n",
    "\n",
    "def GetColor(filePath):\n",
    "    # ======================= 官方固定格式 ===============================\n",
    "    app_color = ClarifaiApp(api_key='0f82436fcad44c1cb8953ee52d563ef1')\n",
    "    # model = app.public_models.general_model\n",
    "    model = app_color.models.get('color')\n",
    "    # picnames = pic_list('D:\\clarifai\\pictures')\n",
    "    image = ClImage(filename=filePath)\n",
    "    color_list = model.predict([image])[\"outputs\"][0][\"data\"][\"colors\"]\n",
    "    # ===================================================================\n",
    "#     print(color_list)\n",
    "    color_datas = {}\n",
    "    for color in color_list:\n",
    "        color_id = color[\"raw_hex\"]\n",
    "        color_pa = color[\"value\"]\n",
    "        color_name = color[\"w3c\"][\"name\"]\n",
    "#         print(\"color_data= \",  color_name, color_id + \"\\t\", str(color_pa * 100)[:5] + \"%\")\n",
    "        color_datas[color_pa]='main color = '+str(color_name) + \" \"+ str(color_id) + \" \" + str(color_pa * 100)[:5] + \"%\"\n",
    "#     print(color_datas)\n",
    "#     print(color_datas.keys())\n",
    "    max_data = max(color_datas.keys())\n",
    "    color_data = color_datas[max_data]\n",
    "    print(color_data)\n",
    "    return color_data"
   ]
  },
  {
   "cell_type": "code",
   "execution_count": 11,
   "metadata": {},
   "outputs": [],
   "source": [
    "import os\n",
    "import shutil\n",
    "\n",
    "def CopyFileWaitToTest(Image_shoes):\n",
    "    Image_shoes = Image_shoes.split(\"/\")[-1]\n",
    "    Image_shoes = \"/root/linechatbot/images/\" + Image_shoes\n",
    "    des_pwd = '/root/darknet/data/'\n",
    "    fn = 'test.jpg'\n",
    "    shutil.copyfile(Image_shoes, des_pwd+fn)\n",
    "\n",
    "# CopyFileWaitToTest('./image/10744146872237.jpg')"
   ]
  },
  {
   "cell_type": "code",
   "execution_count": 12,
   "metadata": {},
   "outputs": [],
   "source": [
    "import os\n",
    "\n",
    "def test_pic():   \n",
    "    os.chdir(\"/root/darknet\")\n",
    "    cmd =\"\"\"\n",
    "        ./darknet detector test \\\n",
    "        shoe_person/cfg/obj.data \\\n",
    "        shoe_person/cfg/yolov3.cfg \\\n",
    "        shoe_person/cfg/weights/yolov3_last.weights \\\n",
    "        data/test.jpg \\\n",
    "        -dont_show &\n",
    "        \"\"\"\n",
    "    os.popen(cmd)\n",
    "#     cmd_res = os.popen(cmd).read()\n",
    "#     print(cmd_res)"
   ]
  },
  {
   "cell_type": "code",
   "execution_count": 13,
   "metadata": {},
   "outputs": [],
   "source": [
    "import os\n",
    "import shutil\n",
    "\n",
    "def CopyFileWaitToPost(messageID):\n",
    "    origin_pwd = '/root/darknet/result_img/'\n",
    "    des_pwd = '/root/linechatbot/material/'\n",
    "    img_list = os.listdir(origin_pwd)\n",
    "    returnImgList = []\n",
    "    for i in img_list:\n",
    "        if 'shoe' in i:\n",
    "            print(i)\n",
    "            NewfileName = messageID+'-'+i\n",
    "            shutil.copyfile(origin_pwd+i, des_pwd+NewfileName)\n",
    "            returnImgList.append(NewfileName)\n",
    "    return returnImgList"
   ]
  },
  {
   "cell_type": "code",
   "execution_count": null,
   "metadata": {
    "scrolled": false
   },
   "outputs": [
    {
     "name": "stderr",
     "output_type": "stream",
     "text": [
      " * Running on http://0.0.0.0:5000/ (Press CTRL+C to quit)\n",
      "172.25.0.3 - - [16/Oct/2019 05:37:01] \"POST / HTTP/1.1\" 200 -\n",
      "172.25.0.3 - - [16/Oct/2019 05:37:02] \"POST / HTTP/1.1\" 200 -\n",
      "172.25.0.3 - - [16/Oct/2019 05:37:07] \"POST / HTTP/1.1\" 200 -\n"
     ]
    },
    {
     "name": "stdout",
     "output_type": "stream",
     "text": [
      "{'tag': ['blockchain']}\n"
     ]
    },
    {
     "name": "stderr",
     "output_type": "stream",
     "text": [
      "172.25.0.3 - - [16/Oct/2019 05:37:09] \"POST / HTTP/1.1\" 200 -\n"
     ]
    },
    {
     "name": "stdout",
     "output_type": "stream",
     "text": [
      "想知道區塊鏈的戰略價值\n"
     ]
    },
    {
     "name": "stderr",
     "output_type": "stream",
     "text": [
      "172.25.0.3 - - [16/Oct/2019 05:37:14] \"POST / HTTP/1.1\" 200 -\n",
      "172.25.0.3 - - [16/Oct/2019 05:37:18] \"POST / HTTP/1.1\" 200 -\n"
     ]
    },
    {
     "name": "stdout",
     "output_type": "stream",
     "text": [
      "{'tag': ['aws|blockchain|offline|tutorial']}\n"
     ]
    },
    {
     "name": "stderr",
     "output_type": "stream",
     "text": [
      "[2019-10-16 05:37:19,414] ERROR in app: Exception on / [POST]\n",
      "Traceback (most recent call last):\n",
      "  File \"/root/miniconda3/lib/python3.7/site-packages/flask/app.py\", line 1982, in wsgi_app\n",
      "    response = self.full_dispatch_request()\n",
      "  File \"/root/miniconda3/lib/python3.7/site-packages/flask/app.py\", line 1614, in full_dispatch_request\n",
      "    rv = self.handle_user_exception(e)\n",
      "  File \"/root/miniconda3/lib/python3.7/site-packages/flask/app.py\", line 1517, in handle_user_exception\n",
      "    reraise(exc_type, exc_value, tb)\n",
      "  File \"/root/miniconda3/lib/python3.7/site-packages/flask/_compat.py\", line 33, in reraise\n",
      "    raise value\n",
      "  File \"/root/miniconda3/lib/python3.7/site-packages/flask/app.py\", line 1612, in full_dispatch_request\n",
      "    rv = self.dispatch_request()\n",
      "  File \"/root/miniconda3/lib/python3.7/site-packages/flask/app.py\", line 1598, in dispatch_request\n",
      "    return self.view_functions[rule.endpoint](**req.view_args)\n",
      "  File \"<ipython-input-4-5f474b04f00e>\", line 46, in callback\n",
      "    handler.handle(body, signature)\n",
      "  File \"/root/miniconda3/lib/python3.7/site-packages/linebot/webhook.py\", line 260, in handle\n",
      "    func(event)\n",
      "  File \"<ipython-input-7-6fc55c59669c>\", line 58, in process_text_message\n",
      "    result_message_array = detect_json_array_to_new_message_array(replyJsonPath)\n",
      "  File \"<ipython-input-5-85398623c59c>\", line 29, in detect_json_array_to_new_message_array\n",
      "    with open(fileName) as f:\n",
      "FileNotFoundError: [Errno 2] No such file or directory: 'material/https://www.tibame.com/offline/aws-blockchain?classUid=87/reply.json'\n",
      "172.25.0.3 - - [16/Oct/2019 05:37:19] \"POST / HTTP/1.1\" 500 -\n"
     ]
    },
    {
     "name": "stdout",
     "output_type": "stream",
     "text": [
      "https://www.tibame.com/offline/aws-blockchain?classUid=87\n"
     ]
    },
    {
     "name": "stderr",
     "output_type": "stream",
     "text": [
      "172.25.0.3 - - [16/Oct/2019 05:37:22] \"POST / HTTP/1.1\" 200 -\n"
     ]
    },
    {
     "name": "stdout",
     "output_type": "stream",
     "text": [
      "{'tag': ['aws|blockchain|contact|tutorial']}\n"
     ]
    },
    {
     "name": "stderr",
     "output_type": "stream",
     "text": [
      "[2019-10-16 05:37:23,979] ERROR in app: Exception on / [POST]\n",
      "Traceback (most recent call last):\n",
      "  File \"/root/miniconda3/lib/python3.7/site-packages/flask/app.py\", line 1982, in wsgi_app\n",
      "    response = self.full_dispatch_request()\n",
      "  File \"/root/miniconda3/lib/python3.7/site-packages/flask/app.py\", line 1614, in full_dispatch_request\n",
      "    rv = self.handle_user_exception(e)\n",
      "  File \"/root/miniconda3/lib/python3.7/site-packages/flask/app.py\", line 1517, in handle_user_exception\n",
      "    reraise(exc_type, exc_value, tb)\n",
      "  File \"/root/miniconda3/lib/python3.7/site-packages/flask/_compat.py\", line 33, in reraise\n",
      "    raise value\n",
      "  File \"/root/miniconda3/lib/python3.7/site-packages/flask/app.py\", line 1612, in full_dispatch_request\n",
      "    rv = self.dispatch_request()\n",
      "  File \"/root/miniconda3/lib/python3.7/site-packages/flask/app.py\", line 1598, in dispatch_request\n",
      "    return self.view_functions[rule.endpoint](**req.view_args)\n",
      "  File \"<ipython-input-4-5f474b04f00e>\", line 46, in callback\n",
      "    handler.handle(body, signature)\n",
      "  File \"/root/miniconda3/lib/python3.7/site-packages/linebot/webhook.py\", line 260, in handle\n",
      "    func(event)\n",
      "  File \"<ipython-input-7-6fc55c59669c>\", line 58, in process_text_message\n",
      "    result_message_array = detect_json_array_to_new_message_array(replyJsonPath)\n",
      "  File \"<ipython-input-5-85398623c59c>\", line 29, in detect_json_array_to_new_message_array\n",
      "    with open(fileName) as f:\n",
      "FileNotFoundError: [Errno 2] No such file or directory: 'material/點擊旁邊連結 line://ti/p/@gby2522m 進行聯絡/reply.json'\n",
      "172.25.0.3 - - [16/Oct/2019 05:37:23] \"POST / HTTP/1.1\" 500 -\n"
     ]
    },
    {
     "name": "stdout",
     "output_type": "stream",
     "text": [
      "點擊旁邊連結 line://ti/p/@gby2522m 進行聯絡\n",
      "{'menu': ['rich_menu_1']}\n"
     ]
    },
    {
     "name": "stderr",
     "output_type": "stream",
     "text": [
      "172.25.0.3 - - [16/Oct/2019 05:37:27] \"POST / HTTP/1.1\" 200 -\n",
      "172.25.0.3 - - [16/Oct/2019 05:37:29] \"POST / HTTP/1.1\" 200 -\n"
     ]
    },
    {
     "name": "stdout",
     "output_type": "stream",
     "text": [
      "開生面夢演紅樓\n"
     ]
    },
    {
     "name": "stderr",
     "output_type": "stream",
     "text": [
      "[2019-10-16 05:37:34,235] ERROR in app: Exception on / [POST]\n",
      "Traceback (most recent call last):\n",
      "  File \"/root/miniconda3/lib/python3.7/site-packages/flask/app.py\", line 1982, in wsgi_app\n",
      "    response = self.full_dispatch_request()\n",
      "  File \"/root/miniconda3/lib/python3.7/site-packages/flask/app.py\", line 1614, in full_dispatch_request\n",
      "    rv = self.handle_user_exception(e)\n",
      "  File \"/root/miniconda3/lib/python3.7/site-packages/flask/app.py\", line 1517, in handle_user_exception\n",
      "    reraise(exc_type, exc_value, tb)\n",
      "  File \"/root/miniconda3/lib/python3.7/site-packages/flask/_compat.py\", line 33, in reraise\n",
      "    raise value\n",
      "  File \"/root/miniconda3/lib/python3.7/site-packages/flask/app.py\", line 1612, in full_dispatch_request\n",
      "    rv = self.dispatch_request()\n",
      "  File \"/root/miniconda3/lib/python3.7/site-packages/flask/app.py\", line 1598, in dispatch_request\n",
      "    return self.view_functions[rule.endpoint](**req.view_args)\n",
      "  File \"<ipython-input-4-5f474b04f00e>\", line 46, in callback\n",
      "    handler.handle(body, signature)\n",
      "  File \"/root/miniconda3/lib/python3.7/site-packages/linebot/webhook.py\", line 260, in handle\n",
      "    func(event)\n",
      "  File \"<ipython-input-8-b723a70f27ca>\", line 51, in process_postback_event\n",
      "    result_message_array = detect_json_array_to_new_message_array(replyJsonPath)\n",
      "  File \"<ipython-input-5-85398623c59c>\", line 29, in detect_json_array_to_new_message_array\n",
      "    with open(fileName) as f:\n",
      "FileNotFoundError: [Errno 2] No such file or directory: 'material/rich_menu_0/reply.json'\n",
      "172.25.0.3 - - [16/Oct/2019 05:37:34] \"POST / HTTP/1.1\" 500 -\n"
     ]
    },
    {
     "name": "stdout",
     "output_type": "stream",
     "text": [
      "{'menu': ['rich_menu_0']}\n"
     ]
    },
    {
     "name": "stderr",
     "output_type": "stream",
     "text": [
      "172.25.0.3 - - [16/Oct/2019 05:37:35] \"POST / HTTP/1.1\" 200 -\n"
     ]
    },
    {
     "name": "stdout",
     "output_type": "stream",
     "text": [
      "語村歸結紅樓夢\n"
     ]
    },
    {
     "name": "stderr",
     "output_type": "stream",
     "text": [
      "172.25.0.3 - - [16/Oct/2019 05:37:43] \"POST / HTTP/1.1\" 200 -\n"
     ]
    },
    {
     "name": "stdout",
     "output_type": "stream",
     "text": [
      "1\n",
      "[]\n"
     ]
    },
    {
     "name": "stderr",
     "output_type": "stream",
     "text": [
      "172.25.0.3 - - [16/Oct/2019 05:37:47] \"POST / HTTP/1.1\" 200 -\n"
     ]
    },
    {
     "name": "stdout",
     "output_type": "stream",
     "text": [
      "1\n",
      "[]\n",
      "img_1_2_0_shoe.jpg\n",
      "img_1_1_0_shoe.jpg\n"
     ]
    },
    {
     "name": "stderr",
     "output_type": "stream",
     "text": [
      "172.25.0.3 - - [16/Oct/2019 05:37:50] \"POST / HTTP/1.1\" 200 -\n"
     ]
    },
    {
     "name": "stdout",
     "output_type": "stream",
     "text": [
      "1\n",
      "['10749773049321-img_1_2_0_shoe.jpg', '10749773049321-img_1_1_0_shoe.jpg']\n",
      "https://sneaker.serveo.net/material/10749773049321-img_1_2_0_shoe.jpg\n",
      "https://sneaker.serveo.net/material/10749773049321-img_1_1_0_shoe.jpg\n"
     ]
    },
    {
     "name": "stderr",
     "output_type": "stream",
     "text": [
      "172.25.0.3 - - [16/Oct/2019 05:37:51] \"GET /material/10749773049321-img_1_2_0_shoe.jpg HTTP/1.1\" 200 -\n",
      "172.25.0.3 - - [16/Oct/2019 05:37:52] \"GET /material/10749773049321-img_1_1_0_shoe.jpg HTTP/1.1\" 200 -\n",
      "172.25.0.3 - - [16/Oct/2019 05:39:02] \"POST / HTTP/1.1\" 200 -\n"
     ]
    },
    {
     "name": "stdout",
     "output_type": "stream",
     "text": [
      "1\n",
      "['10749773049321-img_1_2_0_shoe.jpg', '10749773049321-img_1_1_0_shoe.jpg']\n",
      "https://sneaker.serveo.net/material/10749773049321-img_1_2_0_shoe.jpg\n",
      "https://sneaker.serveo.net/material/10749773049321-img_1_1_0_shoe.jpg\n"
     ]
    },
    {
     "name": "stderr",
     "output_type": "stream",
     "text": [
      "172.25.0.3 - - [16/Oct/2019 05:41:03] \"POST / HTTP/1.1\" 200 -\n",
      "172.25.0.3 - - [16/Oct/2019 05:42:04] \"POST / HTTP/1.1\" 200 -\n"
     ]
    },
    {
     "name": "stdout",
     "output_type": "stream",
     "text": [
      "1\n",
      "[]\n",
      "img_1_1_0_shoe.jpg\n"
     ]
    },
    {
     "name": "stderr",
     "output_type": "stream",
     "text": [
      "172.25.0.3 - - [16/Oct/2019 05:42:10] \"POST / HTTP/1.1\" 200 -\n"
     ]
    },
    {
     "name": "stdout",
     "output_type": "stream",
     "text": [
      "1\n",
      "['10749791391375-img_1_1_0_shoe.jpg']\n",
      "https://sneaker.serveo.net/material/10749791391375-img_1_1_0_shoe.jpg\n"
     ]
    },
    {
     "name": "stderr",
     "output_type": "stream",
     "text": [
      "172.25.0.3 - - [16/Oct/2019 05:42:12] \"GET /material/10749791391375-img_1_1_0_shoe.jpg HTTP/1.1\" 200 -\n",
      "172.25.0.3 - - [16/Oct/2019 05:42:40] \"POST / HTTP/1.1\" 200 -\n",
      "172.25.0.3 - - [16/Oct/2019 05:43:26] \"POST / HTTP/1.1\" 200 -\n"
     ]
    },
    {
     "name": "stdout",
     "output_type": "stream",
     "text": [
      "1\n",
      "[]\n",
      "img_1_1_0_shoe.jpg\n"
     ]
    },
    {
     "name": "stderr",
     "output_type": "stream",
     "text": [
      "172.25.0.3 - - [16/Oct/2019 05:43:41] \"POST / HTTP/1.1\" 200 -\n"
     ]
    },
    {
     "name": "stdout",
     "output_type": "stream",
     "text": [
      "1\n",
      "['10749797204145-img_1_1_0_shoe.jpg']\n",
      "https://sneaker.serveo.net/material/10749797204145-img_1_1_0_shoe.jpg\n"
     ]
    },
    {
     "name": "stderr",
     "output_type": "stream",
     "text": [
      "172.25.0.3 - - [16/Oct/2019 05:43:42] \"GET /material/10749797204145-img_1_1_0_shoe.jpg HTTP/1.1\" 200 -\n",
      "172.25.0.3 - - [16/Oct/2019 05:44:50] \"POST / HTTP/1.1\" 200 -\n",
      "172.25.0.3 - - [16/Oct/2019 05:45:17] \"POST / HTTP/1.1\" 200 -\n"
     ]
    },
    {
     "name": "stdout",
     "output_type": "stream",
     "text": [
      "1\n",
      "[]\n",
      "1\n",
      "[]\n"
     ]
    },
    {
     "name": "stderr",
     "output_type": "stream",
     "text": [
      "172.25.0.3 - - [16/Oct/2019 05:45:21] \"POST / HTTP/1.1\" 200 -\n"
     ]
    },
    {
     "name": "stdout",
     "output_type": "stream",
     "text": [
      "img_1_2_0_shoe.jpg\n",
      "img_1_1_0_shoe.jpg\n"
     ]
    },
    {
     "name": "stderr",
     "output_type": "stream",
     "text": [
      "172.25.0.3 - - [16/Oct/2019 05:45:26] \"POST / HTTP/1.1\" 200 -\n"
     ]
    },
    {
     "name": "stdout",
     "output_type": "stream",
     "text": [
      "1\n",
      "['10749805403370-img_1_2_0_shoe.jpg', '10749805403370-img_1_1_0_shoe.jpg']\n",
      "https://sneaker.serveo.net/material/10749805403370-img_1_2_0_shoe.jpg\n",
      "https://sneaker.serveo.net/material/10749805403370-img_1_1_0_shoe.jpg\n"
     ]
    },
    {
     "name": "stderr",
     "output_type": "stream",
     "text": [
      "172.25.0.3 - - [16/Oct/2019 05:45:27] \"GET /material/10749805403370-img_1_2_0_shoe.jpg HTTP/1.1\" 200 -\n",
      "172.25.0.3 - - [16/Oct/2019 05:45:27] \"GET /material/10749805403370-img_1_1_0_shoe.jpg HTTP/1.1\" 200 -\n",
      "172.25.0.3 - - [16/Oct/2019 05:47:05] \"POST / HTTP/1.1\" 200 -\n",
      "172.25.0.3 - - [16/Oct/2019 05:47:15] \"POST / HTTP/1.1\" 200 -\n"
     ]
    },
    {
     "name": "stdout",
     "output_type": "stream",
     "text": [
      "1\n",
      "[]\n"
     ]
    },
    {
     "name": "stderr",
     "output_type": "stream",
     "text": [
      "172.25.0.3 - - [16/Oct/2019 05:47:19] \"POST / HTTP/1.1\" 200 -\n"
     ]
    },
    {
     "name": "stdout",
     "output_type": "stream",
     "text": [
      "1\n",
      "[]\n"
     ]
    },
    {
     "name": "stderr",
     "output_type": "stream",
     "text": [
      "172.25.0.3 - - [16/Oct/2019 05:47:24] \"POST / HTTP/1.1\" 200 -\n"
     ]
    },
    {
     "name": "stdout",
     "output_type": "stream",
     "text": [
      "1\n",
      "[]\n"
     ]
    },
    {
     "name": "stderr",
     "output_type": "stream",
     "text": [
      "172.25.0.3 - - [16/Oct/2019 05:47:36] \"POST / HTTP/1.1\" 200 -\n",
      "172.25.0.3 - - [16/Oct/2019 05:47:38] \"POST / HTTP/1.1\" 200 -\n",
      "172.25.0.3 - - [16/Oct/2019 05:47:44] \"POST / HTTP/1.1\" 200 -\n"
     ]
    },
    {
     "name": "stdout",
     "output_type": "stream",
     "text": [
      "開生面夢演紅樓\n",
      "{'menu': ['rich_menu_1']}\n"
     ]
    },
    {
     "name": "stderr",
     "output_type": "stream",
     "text": [
      "172.25.0.3 - - [16/Oct/2019 05:47:45] \"POST / HTTP/1.1\" 200 -\n",
      "172.25.0.3 - - [16/Oct/2019 05:47:51] \"POST / HTTP/1.1\" 200 -\n"
     ]
    },
    {
     "name": "stdout",
     "output_type": "stream",
     "text": [
      "1\n",
      "[]\n",
      "img_1_3_0_shoe.jpg\n",
      "img_1_1_0_shoe.jpg\n"
     ]
    },
    {
     "name": "stderr",
     "output_type": "stream",
     "text": [
      "172.25.0.3 - - [16/Oct/2019 05:47:56] \"POST / HTTP/1.1\" 200 -\n"
     ]
    },
    {
     "name": "stdout",
     "output_type": "stream",
     "text": [
      "1\n",
      "['10749816103631-img_1_1_0_shoe.jpg', '10749816103631-img_1_3_0_shoe.jpg']\n",
      "https://sneaker.serveo.net/material/10749816103631-img_1_1_0_shoe.jpg\n",
      "https://sneaker.serveo.net/material/10749816103631-img_1_3_0_shoe.jpg\n"
     ]
    },
    {
     "name": "stderr",
     "output_type": "stream",
     "text": [
      "172.25.0.3 - - [16/Oct/2019 05:47:57] \"GET /material/10749816103631-img_1_1_0_shoe.jpg HTTP/1.1\" 200 -\n",
      "172.25.0.3 - - [16/Oct/2019 05:47:57] \"GET /material/10749816103631-img_1_3_0_shoe.jpg HTTP/1.1\" 200 -\n",
      "172.25.0.3 - - [16/Oct/2019 05:51:22] \"POST / HTTP/1.1\" 200 -\n",
      "172.25.0.3 - - [16/Oct/2019 05:51:54] \"POST / HTTP/1.1\" 200 -\n"
     ]
    },
    {
     "name": "stdout",
     "output_type": "stream",
     "text": [
      "1\n",
      "[]\n",
      "img_1_2_0_shoe.jpg\n",
      "img_1_1_0_shoe.jpg\n"
     ]
    },
    {
     "name": "stderr",
     "output_type": "stream",
     "text": [
      "172.25.0.3 - - [16/Oct/2019 05:52:00] \"POST / HTTP/1.1\" 200 -\n"
     ]
    },
    {
     "name": "stdout",
     "output_type": "stream",
     "text": [
      "1\n",
      "['10749833451113-img_1_2_0_shoe.jpg', '10749833451113-img_1_1_0_shoe.jpg']\n",
      "https://sneaker.serveo.net/material/10749833451113-img_1_2_0_shoe.jpg\n",
      "https://sneaker.serveo.net/material/10749833451113-img_1_1_0_shoe.jpg\n"
     ]
    },
    {
     "name": "stderr",
     "output_type": "stream",
     "text": [
      "172.25.0.3 - - [16/Oct/2019 05:52:02] \"GET /material/10749833451113-img_1_2_0_shoe.jpg HTTP/1.1\" 200 -\n",
      "172.25.0.3 - - [16/Oct/2019 05:52:02] \"GET /material/10749833451113-img_1_1_0_shoe.jpg HTTP/1.1\" 200 -\n"
     ]
    }
   ],
   "source": [
    "'''\n",
    "\n",
    "Application 運行（開發版）\n",
    "\n",
    "'''\n",
    "if __name__ == \"__main__\":\n",
    "    app.run(host='0.0.0.0')"
   ]
  },
  {
   "cell_type": "code",
   "execution_count": null,
   "metadata": {},
   "outputs": [],
   "source": [
    "'''\n",
    "\n",
    "Application 運行（heroku版）\n",
    "\n",
    "'''\n",
    "\n",
    "# import os\n",
    "# if __name__ == \"__main__\":\n",
    "#     app.run(host='0.0.0.0',port=os.environ['PORT'])"
   ]
  },
  {
   "cell_type": "code",
   "execution_count": null,
   "metadata": {},
   "outputs": [],
   "source": []
  }
 ],
 "metadata": {
  "kernelspec": {
   "display_name": "Python 3",
   "language": "python",
   "name": "python3"
  },
  "language_info": {
   "codemirror_mode": {
    "name": "ipython",
    "version": 3
   },
   "file_extension": ".py",
   "mimetype": "text/x-python",
   "name": "python",
   "nbconvert_exporter": "python",
   "pygments_lexer": "ipython3",
   "version": "3.7.3"
  }
 },
 "nbformat": 4,
 "nbformat_minor": 2
}
