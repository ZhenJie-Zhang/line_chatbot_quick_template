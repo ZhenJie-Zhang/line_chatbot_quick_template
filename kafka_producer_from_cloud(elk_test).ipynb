{
 "cells": [
  {
   "cell_type": "code",
   "execution_count": 44,
   "metadata": {
    "scrolled": false
   },
   "outputs": [
    {
     "name": "stdout",
     "output_type": "stream",
     "text": [
      "Now listening for incoming messages ...\n",
      "topic=qqq, partition=0, offset=0 : (key=None, value=b'{\"tag\": \"3000\", \"time\": \"2019-10-17 05:19:06\", \"user_id\": \"U07eb38fc5e2318fee7f2ff8cf7cdad5b\"}')\n",
      "topic=qqq, partition=0, offset=1 : (key=None, value=b'{\"tag\": \"3000\", \"time\": \"2019-10-17 05:19:06\", \"user_id\": \"U07eb38fc5e2318fee7f2ff8cf7cdad5b\"}')\n",
      "topic=qqq, partition=0, offset=2 : (key=None, value=b'{\"tag\": \"3000\", \"time\": \"2019-10-17 05:19:06\", \"user_id\": \"U07eb38fc5e2318fee7f2ff8cf7cdad5b\"}')\n",
      "topic=qqq, partition=0, offset=3 : (key=None, value=b'{\"tag\": \"3000\", \"time\": \"2019-10-17 05:19:06\", \"user_id\": \"U07eb38fc5e2318fee7f2ff8cf7cdad5b\"}')\n",
      "topic=qqq, partition=0, offset=4 : (key=None, value=b'{\"tag\": \"3000\", \"time\": \"2019-10-17 05:19:06\", \"user_id\": \"U07eb38fc5e2318fee7f2ff8cf7cdad5b\"}')\n",
      "topic=qqq, partition=0, offset=5 : (key=None, value=b'{\"tag\": \"3000\", \"time\": \"2019-10-17 05:19:06\", \"user_id\": \"U07eb38fc5e2318fee7f2ff8cf7cdad5b\"}')\n",
      "topic=qqq, partition=0, offset=6 : (key=None, value=b'{\"tag\": \"3000\", \"time\": \"2019-10-17 05:19:06\", \"user_id\": \"U07eb38fc5e2318fee7f2ff8cf7cdad5b\"}')\n",
      "topic=qqq, partition=0, offset=7 : (key=None, value=b'{\"tag\": \"3000\", \"time\": \"2019-10-17 05:19:06\", \"user_id\": \"U07eb38fc5e2318fee7f2ff8cf7cdad5b\"}')\n",
      "topic=qqq, partition=0, offset=8 : (key=None, value=b'{\"tag\": \"3000\", \"time\": \"2019-10-17 05:19:06\", \"user_id\": \"U07eb38fc5e2318fee7f2ff8cf7cdad5b\"}')\n",
      "topic=qqq, partition=0, offset=9 : (key=None, value=b'{\"tag\": \"3000\", \"time\": \"2019-10-17 05:19:06\", \"user_id\": \"U07eb38fc5e2318fee7f2ff8cf7cdad5b\"}')\n",
      "topic=qqq, partition=0, offset=10 : (key=None, value=b'qqq')\n",
      "topic=qqq, partition=0, offset=11 : (key=None, value=b'{\"tag\": \"3000\", \"time\": \"2019-10-17 05:22:33\", \"user_id\": \"U07eb38fc5e2318fee7f2ff8cf7cdad5b\"}')\n",
      "topic=qqq, partition=0, offset=12 : (key=None, value=b'{\"tag\": \"3000\", \"time\": \"2019-10-17 05:22:33\", \"user_id\": \"U07eb38fc5e2318fee7f2ff8cf7cdad5b\"}')\n",
      "topic=qqq, partition=0, offset=13 : (key=None, value=b'{\"tag\": \"3000\", \"time\": \"2019-10-17 05:22:33\", \"user_id\": \"U07eb38fc5e2318fee7f2ff8cf7cdad5b\"}')\n",
      "topic=qqq, partition=0, offset=14 : (key=None, value=b'{\"tag\": \"3000\", \"time\": \"2019-10-17 05:22:33\", \"user_id\": \"U07eb38fc5e2318fee7f2ff8cf7cdad5b\"}')\n",
      "topic=qqq, partition=0, offset=15 : (key=None, value=b'{\"tag\": \"3000\", \"time\": \"2019-10-17 05:22:33\", \"user_id\": \"U07eb38fc5e2318fee7f2ff8cf7cdad5b\"}')\n",
      "topic=qqq, partition=0, offset=16 : (key=None, value=b'{\"tag\": \"3000\", \"time\": \"2019-10-17 05:22:33\", \"user_id\": \"U07eb38fc5e2318fee7f2ff8cf7cdad5b\"}')\n",
      "topic=qqq, partition=0, offset=17 : (key=None, value=b'{\"tag\": \"3000\", \"time\": \"2019-10-17 05:22:33\", \"user_id\": \"U07eb38fc5e2318fee7f2ff8cf7cdad5b\"}')\n",
      "topic=qqq, partition=0, offset=18 : (key=None, value=b'{\"tag\": \"3000\", \"time\": \"2019-10-17 05:22:33\", \"user_id\": \"U07eb38fc5e2318fee7f2ff8cf7cdad5b\"}')\n",
      "topic=qqq, partition=0, offset=19 : (key=None, value=b'{\"tag\": \"3000\", \"time\": \"2019-10-17 05:22:33\", \"user_id\": \"U07eb38fc5e2318fee7f2ff8cf7cdad5b\"}')\n",
      "topic=qqq, partition=0, offset=20 : (key=None, value=b'{\"tag\": \"3000\", \"time\": \"2019-10-17 05:22:33\", \"user_id\": \"U07eb38fc5e2318fee7f2ff8cf7cdad5b\"}')\n",
      "topic=qqq, partition=0, offset=21 : (key=None, value=b'{\"tag\": \"3000\", \"time\": \"2019-10-17 05:22:33\", \"user_id\": \"U07eb38fc5e2318fee7f2ff8cf7cdad5b\"}')\n",
      "topic=qqq, partition=0, offset=22 : (key=None, value=b'{\"tag\": \"3000\", \"time\": \"2019-10-17 05:22:33\", \"user_id\": \"U07eb38fc5e2318fee7f2ff8cf7cdad5b\"}')\n",
      "topic=qqq, partition=0, offset=23 : (key=None, value=b'{\"tag\": \"3000\", \"time\": \"2019-10-17 05:22:33\", \"user_id\": \"U07eb38fc5e2318fee7f2ff8cf7cdad5b\"}')\n",
      "topic=qqq, partition=0, offset=24 : (key=None, value=b'{\"tag\": \"3000\", \"time\": \"2019-10-17 05:22:33\", \"user_id\": \"U07eb38fc5e2318fee7f2ff8cf7cdad5b\"}')\n",
      "topic=qqq, partition=0, offset=25 : (key=None, value=b'{\"tag\": \"3000\", \"time\": \"2019-10-17 05:22:33\", \"user_id\": \"U07eb38fc5e2318fee7f2ff8cf7cdad5b\"}')\n",
      "topic=qqq, partition=0, offset=26 : (key=None, value=b'{\"tag\": \"3000\", \"time\": \"2019-10-17 05:22:33\", \"user_id\": \"U07eb38fc5e2318fee7f2ff8cf7cdad5b\"}')\n",
      "topic=qqq, partition=0, offset=27 : (key=None, value=b'{\"tag\": \"3000\", \"time\": \"2019-10-17 05:22:33\", \"user_id\": \"U07eb38fc5e2318fee7f2ff8cf7cdad5b\"}')\n",
      "topic=qqq, partition=0, offset=28 : (key=None, value=b'{\"tag\": \"3000\", \"time\": \"2019-10-17 05:22:33\", \"user_id\": \"U07eb38fc5e2318fee7f2ff8cf7cdad5b\"}')\n",
      "topic=qqq, partition=0, offset=29 : (key=None, value=b'{\"tag\": \"3000\", \"time\": \"2019-10-17 05:22:33\", \"user_id\": \"U07eb38fc5e2318fee7f2ff8cf7cdad5b\"}')\n",
      "topic=qqq, partition=0, offset=30 : (key=None, value=b'{\"tag\": \"3000\", \"time\": \"2019-10-17 05:22:33\", \"user_id\": \"U07eb38fc5e2318fee7f2ff8cf7cdad5b\"}')\n",
      "topic=qqq, partition=0, offset=31 : (key=None, value=b'{\"tag\": \"3000\", \"time\": \"2019-10-17 05:22:33\", \"user_id\": \"U07eb38fc5e2318fee7f2ff8cf7cdad5b\"}')\n",
      "topic=qqq, partition=0, offset=32 : (key=None, value=b'{\"tag\": \"3000\", \"time\": \"2019-10-17 05:22:33\", \"user_id\": \"U07eb38fc5e2318fee7f2ff8cf7cdad5b\"}')\n",
      "topic=qqq, partition=0, offset=33 : (key=None, value=b'{\"tag\": \"3000\", \"time\": \"2019-10-17 05:22:33\", \"user_id\": \"U07eb38fc5e2318fee7f2ff8cf7cdad5b\"}')\n",
      "topic=qqq, partition=0, offset=34 : (key=None, value=b'{\"tag\": \"3000\", \"time\": \"2019-10-17 05:22:33\", \"user_id\": \"U07eb38fc5e2318fee7f2ff8cf7cdad5b\"}')\n",
      "topic=qqq, partition=0, offset=35 : (key=None, value=b'')\n",
      "topic=qqq, partition=0, offset=36 : (key=None, value=b'{\"tag\": \"3000\", \"time\": \"2019-10-17 05:22:33\", \"user_id\": \"U07eb38fc5e2318fee7f2ff8cf7cdad5b\"}')\n",
      "topic=qqq, partition=0, offset=37 : (key=None, value=b'{\"tag\": \"3000\", \"time\": \"2019-10-17 05:22:33\", \"user_id\": \"U07eb38fc5e2318fee7f2ff8cf7cdad5b\"}')\n",
      "topic=qqq, partition=0, offset=38 : (key=None, value=b'{\"tag\": \"3000\", \"time\": \"2019-10-17 05:22:33\", \"user_id\": \"U07eb38fc5e2318fee7f2ff8cf7cdad5b\"}')\n",
      "topic=qqq, partition=0, offset=39 : (key=None, value=b'{\"tag\": \"3000\", \"time\": \"2019-10-17 05:22:33\", \"user_id\": \"U07eb38fc5e2318fee7f2ff8cf7cdad5b\"}')\n",
      "topic=qqq, partition=0, offset=40 : (key=None, value=b'{\"tag\": \"3000\", \"time\": \"2019-10-17 05:22:33\", \"user_id\": \"U07eb38fc5e2318fee7f2ff8cf7cdad5b\"}')\n",
      "topic=qqq, partition=0, offset=41 : (key=None, value=b'{\"tag\": \"3000\", \"time\": \"2019-10-17 05:22:33\", \"user_id\": \"U07eb38fc5e2318fee7f2ff8cf7cdad5b\"}')\n",
      "topic=qqq, partition=0, offset=42 : (key=None, value=b'{\"tag\": \"run\", \"time\": \"2019-10-17 06:06:53\", \"user_id\": \"U07eb38fc5e2318fee7f2ff8cf7cdad5b\"}')\n",
      "topic=qqq, partition=0, offset=43 : (key=None, value=b'{\"tag\": \"run\", \"time\": \"2019-10-17 06:06:53\", \"user_id\": \"U07eb38fc5e2318fee7f2ff8cf7cdad5b\"}')\n",
      "topic=qqq, partition=0, offset=44 : (key=None, value=b'{\"tag\": \"run\", \"time\": \"2019-10-17 06:06:53\", \"user_id\": \"U07eb38fc5e2318fee7f2ff8cf7cdad5b\"}')\n",
      "topic=qqq, partition=0, offset=45 : (key=None, value=b'{\"tag\": \"run\", \"time\": \"2019-10-17 06:06:53\", \"user_id\": \"U07eb38fc5e2318fee7f2ff8cf7cdad5b\"}')\n",
      "topic=qqq, partition=0, offset=46 : (key=None, value=b'{\"tag\": \"run\", \"time\": \"2019-10-17 06:06:53\", \"user_id\": \"U07eb38fc5e2318fee7f2ff8cf7cdad5b\"}')\n",
      "topic=qqq, partition=0, offset=47 : (key=None, value=b'{\"tag\": \"populartype\", \"time\": \"2019-10-17 06:22:09\", \"user_id\": \"U07eb38fc5e2318fee7f2ff8cf7cdad5b\"}')\n",
      "topic=qqq, partition=0, offset=48 : (key=None, value=b'{\"tag\": \"populartype\", \"time\": \"2019-10-17 06:22:09\", \"user_id\": \"U07eb38fc5e2318fee7f2ff8cf7cdad5b\"}')\n",
      "topic=qqq, partition=0, offset=49 : (key=None, value=b'{\"tag\": \"populartype\", \"time\": \"2019-10-17 06:22:09\", \"user_id\": \"U07eb38fc5e2318fee7f2ff8cf7cdad5b\"}')\n",
      "topic=qqq, partition=0, offset=50 : (key=None, value=b'{\"tag\": \"populartype\", \"time\": \"2019-10-17 06:22:09\", \"user_id\": \"U07eb38fc5e2318fee7f2ff8cf7cdad5b\"}')\n",
      "topic=qqq, partition=0, offset=51 : (key=None, value=b'{\"tag\": \"populartype\", \"time\": \"2019-10-17 06:22:09\", \"user_id\": \"U07eb38fc5e2318fee7f2ff8cf7cdad5b\"}')\n",
      "topic=qqq, partition=0, offset=52 : (key=None, value=b'{\"tag\": \"japan\", \"time\": \"2019-10-17 10:53:30\", \"user_id\": \"U07eb38fc5e2318fee7f2ff8cf7cdad5b\"}')\n",
      "topic=qqq, partition=0, offset=53 : (key=None, value=b'{\"tag\": \"japan\", \"time\": \"2019-10-17 10:53:30\", \"user_id\": \"U07eb38fc5e2318fee7f2ff8cf7cdad5b\"}')\n",
      "topic=qqq, partition=0, offset=54 : (key=None, value=b'{\"tag\": \"japan\", \"time\": \"2019-10-17 10:53:30\", \"user_id\": \"U07eb38fc5e2318fee7f2ff8cf7cdad5b\"}')\n",
      "topic=qqq, partition=0, offset=55 : (key=None, value=b'{\"tag\": \"japan\", \"time\": \"2019-10-17 10:53:30\", \"user_id\": \"U07eb38fc5e2318fee7f2ff8cf7cdad5b\"}')\n"
     ]
    },
    {
     "name": "stdout",
     "output_type": "stream",
     "text": [
      "topic=qqq, partition=0, offset=56 : (key=None, value=b'{\"tag\": \"america\", \"time\": \"2019-10-17 12:20:43\", \"user_id\": \"U07eb38fc5e2318fee7f2ff8cf7cdad5b\"}')\n",
      "topic=qqq, partition=0, offset=57 : (key=None, value=b'{\"tag\": \"america\", \"time\": \"2019-10-17 12:20:43\", \"user_id\": \"U07eb38fc5e2318fee7f2ff8cf7cdad5b\"}')\n",
      "topic=qqq, partition=0, offset=58 : (key=None, value=b'{\"tag\": \"america\", \"time\": \"2019-10-17 12:20:43\", \"user_id\": \"U07eb38fc5e2318fee7f2ff8cf7cdad5b\"}')\n",
      "type ==> <class 'KeyboardInterrupt'>\n",
      "value ==> \n",
      "traceback ==> file name: <ipython-input-44-d8dbdd16b2ea>\n",
      "traceback ==> line no: 36\n",
      "traceback ==> function name: <module>\n"
     ]
    }
   ],
   "source": [
    "from kafka import KafkaConsumer\n",
    "import sys, json, pymysql, pymongo\n",
    "from elasticsearch import Elasticsearch\n",
    "\n",
    "if __name__ == \"__main__\":\n",
    "\n",
    "    # 與 MongoDB連線\n",
    "    ##client = pymongo.MongoClient(host=\"mongodb\", port=27017)\n",
    "    # 指定為 test 資料庫\n",
    "    ##db = client.test\n",
    "    # 指定 temp_humidity 集合, MongoDB的每個資料庫又包含許多集合(collection), 類似於關聯性資料庫中的表\n",
    "    ##collection = db.bpm\n",
    "\n",
    "    # 設定要連線到Kafka集群的相關設定, 產生一個Kafka的Consumer的實例\n",
    "    consumer = KafkaConsumer(\n",
    "        # 指定Kafka集群伺服器\n",
    "        bootstrap_servers=[\"35.224.83.201:9092\"],\n",
    "        # ConsumerGroup的名稱, 可以不指定\n",
    "        #group_id=\"cg_001\",\n",
    "        # 指定msgKey的反序列化器, 若Key為None, 無法反序列化\n",
    "        # key_deserializer=bytes.decode,\n",
    "        # 指定msgValue的反序列化器\n",
    "        #value_deserializer=bytes.decode,\n",
    "#         value_deserializer=lambda m: json.loads(m.decode('ascii')),\n",
    "        # 是否從這個ConsumerGroup尚未讀取的partition / offset開始讀\n",
    "        auto_offset_reset=\"earliest\",\n",
    "    )\n",
    "   \n",
    "    # 讓Consumer向Kafka集群訂閱指定的topic\n",
    "    consumer.subscribe(topics=\"qqq\")\n",
    "    \n",
    "    # 持續的拉取Kafka有進來的訊息\n",
    "    try:\n",
    "        print(\"Now listening for incoming messages ...\")\n",
    "        # 持續監控是否有新的record進來\n",
    "        for record in consumer:\n",
    "            topic = record.topic\n",
    "            partition = record.partition\n",
    "            offset = record.offset\n",
    "            timestamp = record.timestamp\n",
    "            # 取出msgKey與msgValue\n",
    "            msgKey = record.key\n",
    "            msgValue = record.value\n",
    "            # 秀出metadata與msgKey & msgValue訊息\n",
    "            print(\"topic=%s, partition=%s, offset=%s : (key=%s, value=%s)\" % (record.topic, record.partition, \n",
    "                                                                              record.offset, record.key, record.value))\n",
    "#             j = {\"device_id\": msgValue[\"device_id\"], \"timestamp\": msgValue[\"timestamp\"], \n",
    "#                   \"bpm\": msgValue[\"bpm\"]}\n",
    "#             print(\"json=\",  j)\n",
    "            \n",
    "            # 將資料存入 mongodb\n",
    "            # 存入單筆\n",
    "            ##result = collection.insert_one(j)\n",
    "            # 存入多筆\n",
    "            ##result = collection.insert_many()\n",
    "            #print(result)\n",
    "\n",
    "    except:\n",
    "        # 錯誤處理\n",
    "        e_type, e_value, e_traceback = sys.exc_info()\n",
    "        print(\"type ==> %s\" % (e_type))\n",
    "        print(\"value ==> %s\" % (e_value))\n",
    "        print(\"traceback ==> file name: %s\" % (e_traceback.tb_frame.f_code.co_filename))\n",
    "        print(\"traceback ==> line no: %s\" % (e_traceback.tb_lineno))\n",
    "        print(\"traceback ==> function name: %s\" % (e_traceback.tb_frame.f_code.co_name))\n",
    "    finally:\n",
    "        consumer.close()"
   ]
  },
  {
   "cell_type": "code",
   "execution_count": 26,
   "metadata": {},
   "outputs": [
    {
     "name": "stdout",
     "output_type": "stream",
     "text": [
      "updated\n",
      "{'author': 'kimchy', 'text': 'Elasticsearch: cool. bonsai cool.', 'timestamp': '2019-10-22T06:37:27.358701'}\n",
      "Got 1 Hits:\n",
      "2019-10-22T06:37:27.358701 kimchy: Elasticsearch: cool. bonsai cool.\n"
     ]
    }
   ],
   "source": [
    "from datetime import datetime\n",
    "from elasticsearch import Elasticsearch\n",
    "es = Elasticsearch(['elasticsearch:9200'])\n",
    "\n",
    "doc = {\n",
    "    'author': 'kimchy',\n",
    "    'text': 'Elasticsearch: cool. bonsai cool.',\n",
    "    'timestamp': datetime.now(),\n",
    "}\n",
    "res = es.index(index=\"test-index\", doc_type='tweet', id=1, body=doc)\n",
    "print(res['result'])\n",
    "\n",
    "res = es.get(index=\"test-index\", doc_type='tweet', id=1)\n",
    "print(res['_source'])\n",
    "\n",
    "es.indices.refresh(index=\"test-index\")\n",
    "\n",
    "res = es.search(index=\"test-index\", body={\"query\": {\"match_all\": {}}})\n",
    "print(\"Got %d Hits:\" % res['hits']['total'])\n",
    "for hit in res['hits']['hits']:\n",
    "    print(\"%(timestamp)s %(author)s: %(text)s\" % hit[\"_source\"])"
   ]
  },
  {
   "cell_type": "code",
   "execution_count": 23,
   "metadata": {
    "scrolled": true
   },
   "outputs": [
    {
     "data": {
      "text/plain": [
       "{'took': 2,\n",
       " 'timed_out': False,\n",
       " '_shards': {'total': 5, 'successful': 5, 'skipped': 0, 'failed': 0},\n",
       " 'hits': {'total': 1,\n",
       "  'max_score': 1.0,\n",
       "  'hits': [{'_index': 'test-index',\n",
       "    '_type': 'tweet',\n",
       "    '_id': '1',\n",
       "    '_score': 1.0,\n",
       "    '_source': {'author': 'kimchy',\n",
       "     'text': 'Elasticsearch: cool. bonsai cool.',\n",
       "     'timestamp': '2019-10-22T06:18:47.766627'}}]}}"
      ]
     },
     "execution_count": 23,
     "metadata": {},
     "output_type": "execute_result"
    }
   ],
   "source": [
    "res"
   ]
  },
  {
   "cell_type": "code",
   "execution_count": 25,
   "metadata": {},
   "outputs": [
    {
     "data": {
      "text/plain": [
       "{'total': 1,\n",
       " 'max_score': 1.0,\n",
       " 'hits': [{'_index': 'test-index',\n",
       "   '_type': 'tweet',\n",
       "   '_id': '1',\n",
       "   '_score': 1.0,\n",
       "   '_source': {'author': 'kimchy',\n",
       "    'text': 'Elasticsearch: cool. bonsai cool.',\n",
       "    'timestamp': '2019-10-22T06:18:47.766627'}}]}"
      ]
     },
     "execution_count": 25,
     "metadata": {},
     "output_type": "execute_result"
    }
   ],
   "source": [
    "res['hits']"
   ]
  },
  {
   "cell_type": "code",
   "execution_count": 27,
   "metadata": {},
   "outputs": [
    {
     "data": {
      "text/plain": [
       "{'_index': 'test-index',\n",
       " '_type': 'tweet',\n",
       " '_id': '1',\n",
       " '_version': 4,\n",
       " 'result': 'updated',\n",
       " '_shards': {'total': 2, 'successful': 1, 'failed': 0},\n",
       " '_seq_no': 3,\n",
       " '_primary_term': 1}"
      ]
     },
     "execution_count": 27,
     "metadata": {},
     "output_type": "execute_result"
    }
   ],
   "source": [
    "from elasticsearch import Elasticsearch\n",
    "\n",
    "es = Elasticsearch(\"elasticsearch:9200\")\n",
    "\n",
    "es.index(index=\"test-index\", doc_type='tweet', id=1, body={\n",
    "  \"name\": \"Karl\",\n",
    "  \"email\": \"karl@gmail.com\"\n",
    "})"
   ]
  }
 ],
 "metadata": {
  "kernelspec": {
   "display_name": "Python 3",
   "language": "python",
   "name": "python3"
  },
  "language_info": {
   "codemirror_mode": {
    "name": "ipython",
    "version": 3
   },
   "file_extension": ".py",
   "mimetype": "text/x-python",
   "name": "python",
   "nbconvert_exporter": "python",
   "pygments_lexer": "ipython3",
   "version": "3.7.4"
  }
 },
 "nbformat": 4,
 "nbformat_minor": 2
}
