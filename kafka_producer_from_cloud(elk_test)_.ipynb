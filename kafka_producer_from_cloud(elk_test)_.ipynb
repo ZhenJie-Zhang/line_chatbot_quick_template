{
 "cells": [
  {
   "cell_type": "code",
   "execution_count": 6,
   "metadata": {
    "scrolled": false
   },
   "outputs": [
    {
     "name": "stdout",
     "output_type": "stream",
     "text": [
      "Now listening for incoming messages ...\n",
      "topic=qqq, partition=0, offset=0 : (key=None, value=b'{\"device_id\": \"001\", \"timestamp\": \"2019-11-04 06:01:54\", \"bpm\": 81, \"rd\": 0.9566025652183122}')\n",
      "topic=qqq, partition=0, offset=1 : (key=None, value=b'{\"device_id\": \"001\", \"timestamp\": \"2019-11-04 06:01:54\", \"bpm\": 96, \"rd\": 0.30430386005978627}')\n",
      "topic=qqq, partition=0, offset=2 : (key=None, value=b'{\"device_id\": \"001\", \"timestamp\": \"2019-11-04 06:01:55\", \"bpm\": 61, \"rd\": 0.4126258701775718}')\n",
      "topic=qqq, partition=0, offset=3 : (key=None, value=b'{\"device_id\": \"001\", \"timestamp\": \"2019-11-04 06:01:55\", \"bpm\": 97, \"rd\": 0.08385654886003036}')\n",
      "topic=qqq, partition=0, offset=4 : (key=None, value=b'{\"device_id\": \"001\", \"timestamp\": \"2019-11-04 06:01:55\", \"bpm\": 47, \"rd\": 0.9838148249641052}')\n",
      "topic=qqq, partition=0, offset=5 : (key=None, value=b'{\"device_id\": \"001\", \"timestamp\": \"2019-11-04 06:01:55\", \"bpm\": 74, \"rd\": 0.05227347223247314}')\n",
      "topic=qqq, partition=0, offset=6 : (key=None, value=b'{\"device_id\": \"001\", \"timestamp\": \"2019-11-04 06:01:56\", \"bpm\": 69, \"rd\": 0.2554223590621014}')\n",
      "topic=qqq, partition=0, offset=7 : (key=None, value=b'{\"device_id\": \"001\", \"timestamp\": \"2019-11-04 06:01:56\", \"bpm\": 93, \"rd\": 0.33541464640463925}')\n",
      "topic=qqq, partition=0, offset=8 : (key=None, value=b'{\"device_id\": \"001\", \"timestamp\": \"2019-11-04 06:01:56\", \"bpm\": 85, \"rd\": 0.0715083725007204}')\n",
      "topic=qqq, partition=0, offset=9 : (key=None, value=b'{\"device_id\": \"001\", \"timestamp\": \"2019-11-04 06:01:56\", \"bpm\": 23, \"rd\": 0.73085246512952}')\n",
      "topic=qqq, partition=0, offset=10 : (key=None, value=b'{\"device_id\": \"001\", \"timestamp\": \"2019-11-04 06:01:56\", \"bpm\": 38, \"rd\": 0.8851884393729831}')\n",
      "topic=qqq, partition=0, offset=11 : (key=None, value=b'{\"device_id\": \"001\", \"timestamp\": \"2019-11-04 06:01:57\", \"bpm\": 71, \"rd\": 0.5581019341183424}')\n",
      "topic=qqq, partition=0, offset=12 : (key=None, value=b'{\"device_id\": \"001\", \"timestamp\": \"2019-11-04 06:01:57\", \"bpm\": 82, \"rd\": 0.6463498984264269}')\n",
      "topic=qqq, partition=0, offset=13 : (key=None, value=b'{\"device_id\": \"001\", \"timestamp\": \"2019-11-04 06:01:57\", \"bpm\": 96, \"rd\": 0.032167258476850535}')\n",
      "topic=qqq, partition=0, offset=14 : (key=None, value=b'{\"device_id\": \"001\", \"timestamp\": \"2019-11-04 06:01:57\", \"bpm\": 78, \"rd\": 0.6695123473797657}')\n",
      "topic=qqq, partition=0, offset=15 : (key=None, value=b'{\"device_id\": \"001\", \"timestamp\": \"2019-11-04 06:01:58\", \"bpm\": 74, \"rd\": 0.9512859261117803}')\n",
      "topic=qqq, partition=0, offset=16 : (key=None, value=b'{\"device_id\": \"001\", \"timestamp\": \"2019-11-04 06:01:58\", \"bpm\": 58, \"rd\": 0.9890846796738287}')\n",
      "topic=qqq, partition=0, offset=17 : (key=None, value=b'{\"device_id\": \"001\", \"timestamp\": \"2019-11-04 06:01:58\", \"bpm\": 94, \"rd\": 0.46924476422151384}')\n",
      "topic=qqq, partition=0, offset=18 : (key=None, value=b'{\"device_id\": \"001\", \"timestamp\": \"2019-11-04 06:01:58\", \"bpm\": 78, \"rd\": 0.8802687802195596}')\n",
      "type ==> <class 'KeyboardInterrupt'>\n",
      "value ==> \n",
      "traceback ==> file name: <ipython-input-6-b9d42682f34d>\n",
      "traceback ==> line no: 36\n",
      "traceback ==> function name: <module>\n"
     ]
    }
   ],
   "source": [
    "from kafka import KafkaConsumer\n",
    "import sys, json, pymysql, pymongo\n",
    "from elasticsearch import Elasticsearch\n",
    "\n",
    "if __name__ == \"__main__\":\n",
    "\n",
    "    # 與 MongoDB連線\n",
    "    ##client = pymongo.MongoClient(host=\"mongodb\", port=27017)\n",
    "    # 指定為 test 資料庫\n",
    "    ##db = client.test\n",
    "    # 指定 temp_humidity 集合, MongoDB的每個資料庫又包含許多集合(collection), 類似於關聯性資料庫中的表\n",
    "    ##collection = db.bpm\n",
    "\n",
    "    # 設定要連線到Kafka集群的相關設定, 產生一個Kafka的Consumer的實例\n",
    "    consumer = KafkaConsumer(\n",
    "        # 指定Kafka集群伺服器\n",
    "        bootstrap_servers=[\"kafka:9092\"],\n",
    "        # ConsumerGroup的名稱, 可以不指定\n",
    "        #group_id=\"cg_001\",\n",
    "        # 指定msgKey的反序列化器, 若Key為None, 無法反序列化\n",
    "        # key_deserializer=bytes.decode,\n",
    "        # 指定msgValue的反序列化器\n",
    "        #value_deserializer=bytes.decode,\n",
    "#         value_deserializer=lambda m: json.loads(m.decode('ascii')),\n",
    "        # 是否從這個ConsumerGroup尚未讀取的partition / offset開始讀\n",
    "        auto_offset_reset=\"earliest\",\n",
    "    )\n",
    "   \n",
    "    # 讓Consumer向Kafka集群訂閱指定的topic\n",
    "    consumer.subscribe(topics=\"qqq\")\n",
    "    \n",
    "    # 持續的拉取Kafka有進來的訊息\n",
    "    try:\n",
    "        print(\"Now listening for incoming messages ...\")\n",
    "        # 持續監控是否有新的record進來\n",
    "        for record in consumer:\n",
    "            topic = record.topic\n",
    "            partition = record.partition\n",
    "            offset = record.offset\n",
    "            timestamp = record.timestamp\n",
    "            # 取出msgKey與msgValue\n",
    "            msgKey = record.key\n",
    "            msgValue = record.value\n",
    "            # 秀出metadata與msgKey & msgValue訊息\n",
    "            print(\"topic=%s, partition=%s, offset=%s : (key=%s, value=%s)\" % (record.topic, record.partition, \n",
    "                                                                              record.offset, record.key, record.value))\n",
    "#             j = {\"device_id\": msgValue[\"device_id\"], \"timestamp\": msgValue[\"timestamp\"], \n",
    "#                   \"bpm\": msgValue[\"bpm\"]}\n",
    "#             print(\"json=\",  j)\n",
    "            \n",
    "            # 將資料存入 mongodb\n",
    "            # 存入單筆\n",
    "            ##result = collection.insert_one(j)\n",
    "            # 存入多筆\n",
    "            ##result = collection.insert_many()\n",
    "            #print(result)\n",
    "\n",
    "    except:\n",
    "        # 錯誤處理\n",
    "        e_type, e_value, e_traceback = sys.exc_info()\n",
    "        print(\"type ==> %s\" % (e_type))\n",
    "        print(\"value ==> %s\" % (e_value))\n",
    "        print(\"traceback ==> file name: %s\" % (e_traceback.tb_frame.f_code.co_filename))\n",
    "        print(\"traceback ==> line no: %s\" % (e_traceback.tb_lineno))\n",
    "        print(\"traceback ==> function name: %s\" % (e_traceback.tb_frame.f_code.co_name))\n",
    "    finally:\n",
    "        consumer.close()"
   ]
  },
  {
   "cell_type": "code",
   "execution_count": 1,
   "metadata": {},
   "outputs": [
    {
     "name": "stdout",
     "output_type": "stream",
     "text": [
      "Requirement already satisfied: elasticsearch in /root/miniconda3/lib/python3.7/site-packages (7.0.5)\n",
      "Requirement already satisfied: urllib3>=1.21.1 in /root/miniconda3/lib/python3.7/site-packages (from elasticsearch) (1.24.2)\n"
     ]
    }
   ],
   "source": [
    "!pip install elasticsearch"
   ]
  },
  {
   "cell_type": "code",
   "execution_count": 2,
   "metadata": {},
   "outputs": [
    {
     "name": "stdout",
     "output_type": "stream",
     "text": [
      "created\n",
      "created\n",
      "created\n",
      "created\n",
      "created\n",
      "created\n",
      "created\n",
      "created\n",
      "created\n",
      "created\n",
      "created\n",
      "created\n",
      "created\n",
      "created\n",
      "created\n",
      "created\n",
      "created\n"
     ]
    },
    {
     "ename": "KeyboardInterrupt",
     "evalue": "",
     "output_type": "error",
     "traceback": [
      "\u001b[0;31m---------------------------------------------------------------------------\u001b[0m",
      "\u001b[0;31mKeyboardInterrupt\u001b[0m                         Traceback (most recent call last)",
      "\u001b[0;32m<ipython-input-2-bff1e30d298e>\u001b[0m in \u001b[0;36m<module>\u001b[0;34m\u001b[0m\n\u001b[1;32m     26\u001b[0m         \u001b[0;34m'timestamp'\u001b[0m\u001b[0;34m:\u001b[0m \u001b[0mdatetime\u001b[0m\u001b[0;34m.\u001b[0m\u001b[0mnow\u001b[0m\u001b[0;34m(\u001b[0m\u001b[0;34m)\u001b[0m\u001b[0;34m\u001b[0m\u001b[0;34m\u001b[0m\u001b[0m\n\u001b[1;32m     27\u001b[0m     }\n\u001b[0;32m---> 28\u001b[0;31m     \u001b[0mtime\u001b[0m\u001b[0;34m.\u001b[0m\u001b[0msleep\u001b[0m\u001b[0;34m(\u001b[0m\u001b[0;36m0.1\u001b[0m\u001b[0;34m)\u001b[0m\u001b[0;34m\u001b[0m\u001b[0;34m\u001b[0m\u001b[0m\n\u001b[0m\u001b[1;32m     29\u001b[0m \u001b[0;34m\u001b[0m\u001b[0m\n\u001b[1;32m     30\u001b[0m \u001b[0;34m\u001b[0m\u001b[0m\n",
      "\u001b[0;31mKeyboardInterrupt\u001b[0m: "
     ]
    }
   ],
   "source": [
    "from datetime import datetime\n",
    "from elasticsearch import Elasticsearch\n",
    "import random\n",
    "import time\n",
    "es = Elasticsearch(['elasticsearch:9200'])\n",
    "\n",
    "# doc = {\n",
    "#     'author': 'jason',\n",
    "#     'text': 'Elasticsearch: cool. bonsai cool.',\n",
    "#     'timestamp': datetime.now(),\n",
    "# }\n",
    "\n",
    "# 從 linecatbot 接收一筆 點集資料\n",
    "\n",
    "age = ['11-20', '21-30', '31-40', '41-50']\n",
    "gender = ['M', 'W']\n",
    "# brand = ['nike', 'adidas', 'puma', 'skecher']\n",
    "brand = ['nike']\n",
    "\n",
    "for i in range(1000):\n",
    "    doc = {\n",
    "        'user_id': str(i),\n",
    "        random.choice(gender): 1,\n",
    "        random.choice(age): 1,\n",
    "        random.choice(brand): 1,\n",
    "        'timestamp': datetime.now()\n",
    "    }\n",
    "    time.sleep(0.1)\n",
    "\n",
    "\n",
    "\n",
    "\n",
    "    res = es.index(index=\"test\", doc_type='tweet', body=doc)\n",
    "    print(res['result'])\n",
    "\n",
    "# res = es.get(index=\"test-index1\", doc_type='tweet', id=2)\n",
    "# print(res['_source'])\n",
    "\n",
    "# es.indices.refresh(index=\"test-index\")\n",
    "\n",
    "\n",
    "# res = es.search(index=\"test-index\", body={\"query\": {\"match_all\": {}}})\n",
    "# print(\"Got %d Hits:\" % res['hits']['total'])\n",
    "# for hit in res['hits']['hits']:\n",
    "#     print(\"%(timestamp)s %(author)s: %(text)s\" % hit[\"_source\"])"
   ]
  },
  {
   "cell_type": "code",
   "execution_count": 11,
   "metadata": {
    "scrolled": true
   },
   "outputs": [
    {
     "data": {
      "text/plain": [
       "{'took': 1,\n",
       " 'timed_out': False,\n",
       " '_shards': {'total': 5, 'successful': 5, 'skipped': 0, 'failed': 0},\n",
       " 'hits': {'total': 1,\n",
       "  'max_score': 1.0,\n",
       "  'hits': [{'_index': 'test-index',\n",
       "    '_type': 'tweet',\n",
       "    '_id': '1',\n",
       "    '_score': 1.0,\n",
       "    '_source': {'author': 'kimchy',\n",
       "     'text': 'Elasticsearch: cool. bonsai cool.',\n",
       "     'timestamp': '2019-10-31T07:54:09.187109'}}]}}"
      ]
     },
     "execution_count": 11,
     "metadata": {},
     "output_type": "execute_result"
    }
   ],
   "source": [
    "res"
   ]
  },
  {
   "cell_type": "code",
   "execution_count": 12,
   "metadata": {},
   "outputs": [
    {
     "data": {
      "text/plain": [
       "{'total': 1,\n",
       " 'max_score': 1.0,\n",
       " 'hits': [{'_index': 'test-index',\n",
       "   '_type': 'tweet',\n",
       "   '_id': '1',\n",
       "   '_score': 1.0,\n",
       "   '_source': {'author': 'kimchy',\n",
       "    'text': 'Elasticsearch: cool. bonsai cool.',\n",
       "    'timestamp': '2019-10-31T07:54:09.187109'}}]}"
      ]
     },
     "execution_count": 12,
     "metadata": {},
     "output_type": "execute_result"
    }
   ],
   "source": [
    "res['hits']"
   ]
  },
  {
   "cell_type": "code",
   "execution_count": 13,
   "metadata": {},
   "outputs": [
    {
     "data": {
      "text/plain": [
       "{'_index': 'test-index',\n",
       " '_type': 'tweet',\n",
       " '_id': '1',\n",
       " '_version': 16,\n",
       " 'result': 'updated',\n",
       " '_shards': {'total': 2, 'successful': 1, 'failed': 0},\n",
       " '_seq_no': 15,\n",
       " '_primary_term': 8}"
      ]
     },
     "execution_count": 13,
     "metadata": {},
     "output_type": "execute_result"
    }
   ],
   "source": [
    "from elasticsearch import Elasticsearch\n",
    "\n",
    "es = Elasticsearch(\"elasticsearch:9200\")\n",
    "\n",
    "es.index(index=\"test-index\", doc_type='tweet', id=1, body={\n",
    "  \"name\": \"Karl\",\n",
    "  \"email\": \"karl@gmail.com\"\n",
    "})"
   ]
  }
 ],
 "metadata": {
  "kernelspec": {
   "display_name": "Python 3",
   "language": "python",
   "name": "python3"
  },
  "language_info": {
   "codemirror_mode": {
    "name": "ipython",
    "version": 3
   },
   "file_extension": ".py",
   "mimetype": "text/x-python",
   "name": "python",
   "nbconvert_exporter": "python",
   "pygments_lexer": "ipython3",
   "version": "3.7.3"
  }
 },
 "nbformat": 4,
 "nbformat_minor": 2
}
