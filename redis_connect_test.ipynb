{
 "cells": [
  {
   "cell_type": "markdown",
   "metadata": {},
   "source": [
    "# 啟用redis 服務 並連結redis進行資料存取\n",
    "- https://github.com/ZhenJie-Zhang/docker-compose-lab#start-a-redis-instance"
   ]
  },
  {
   "cell_type": "code",
   "execution_count": 1,
   "metadata": {},
   "outputs": [
    {
     "name": "stdout",
     "output_type": "stream",
     "text": [
      "Redis<ConnectionPool<Connection<host=redis,port=6379,db=0>>>\n",
      "Connected!\n"
     ]
    }
   ],
   "source": [
    "#連線redis container , password is \"iii\"  \n",
    "import redis\n",
    "try:\n",
    "    conn = redis.StrictRedis(\n",
    "        host='redis',\n",
    "        port=\"6379\",\n",
    "        password='123456')\n",
    "    print(conn)\n",
    "    conn.ping()\n",
    "    print('Connected!')\n",
    "except Exception as ex:\n",
    "    print ('Error:'), ex\n",
    "    #exit('Failed to connect, terminating.')"
   ]
  },
  {
   "cell_type": "markdown",
   "metadata": {},
   "source": [
    "# 查看創建，查詢，上傳，刪除紀錄。"
   ]
  },
  {
   "cell_type": "code",
   "execution_count": 2,
   "metadata": {},
   "outputs": [
    {
     "name": "stdout",
     "output_type": "stream",
     "text": [
      "Set Record: True\n",
      "Get Record: b'Tesla Model S'\n",
      "Delete Record: 1\n",
      "Get Deleted Record: None\n"
     ]
    }
   ],
   "source": [
    "#Creating, Reading, Updating and Deleting Records\n",
    "import redis\n",
    "try:\n",
    "    conn2 = redis.StrictRedis(\n",
    "        host='redis',\n",
    "        port=\"6379\",\n",
    "        password='123456',\n",
    "        ssl=False)\n",
    "    print ('Set Record:', conn2.set(\"best_car_ever\", \"Tesla Model S\"))\n",
    "    print ('Get Record:', conn2.get(\"best_car_ever\"))\n",
    "    print ('Delete Record:', conn2.delete(\"best_car_ever\"))\n",
    "    print ('Get Deleted Record:', conn2.get(\"best_car_ever\"))\n",
    "except Exception as ex:\n",
    "    print ('Error:'), ex"
   ]
  },
  {
   "cell_type": "markdown",
   "metadata": {},
   "source": [
    "# About char b prefix in Python3.4.1 client connect to redis\n",
    "- https://stackoverflow.com/questions/25745053/about-char-b-prefix-in-python3-4-1-client-connect-to-redis"
   ]
  },
  {
   "cell_type": "code",
   "execution_count": 3,
   "metadata": {},
   "outputs": [
    {
     "name": "stdout",
     "output_type": "stream",
     "text": [
      "Set Record: True\n",
      "Get Record: Tesla Model S\n",
      "Delete Record: 1\n",
      "Get Deleted Record: None\n"
     ]
    }
   ],
   "source": [
    "#Creating, Reading, Updating and Deleting Records\n",
    "import redis\n",
    "try:\n",
    "    conn3 = redis.StrictRedis(\n",
    "        host='redis',\n",
    "        port=\"6379\",\n",
    "        password='123456',\n",
    "        ssl=False, charset=\"utf-8\", decode_responses=True)\n",
    "    print ('Set Record:', conn3.set(\"best_car_ever\", \"Tesla Model S\"))\n",
    "    print ('Get Record:', conn3.get(\"best_car_ever\"))\n",
    "    print ('Delete Record:', conn3.delete(\"best_car_ever\"))\n",
    "    print ('Get Deleted Record:', conn3.get(\"best_car_ever\"))\n",
    "except Exception as ex:\n",
    "    print ('Error:'), ex"
   ]
  }
 ],
 "metadata": {
  "kernelspec": {
   "display_name": "Python 3",
   "language": "python",
   "name": "python3"
  },
  "language_info": {
   "codemirror_mode": {
    "name": "ipython",
    "version": 3
   },
   "file_extension": ".py",
   "mimetype": "text/x-python",
   "name": "python",
   "nbconvert_exporter": "python",
   "pygments_lexer": "ipython3",
   "version": "3.7.4"
  }
 },
 "nbformat": 4,
 "nbformat_minor": 2
}
